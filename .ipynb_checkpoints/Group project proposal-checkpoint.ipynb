{
 "cells": [
  {
   "cell_type": "markdown",
   "metadata": {},
   "source": [
    "### Introduction\n",
    "\n",
    "For our group project we will be predicting the quality of different wine samples given different character traits of the wine. When wine is being processed for production and storage, it undergoes an oxidation reaction and loses some of its fruit aromas. However, this can be prevented but adding preservatives such as sulpher dioxide. This acts as an antiseptic which prevents the prominent flavours from being lost over time and helps preserve the quality of the drink. In our study we will be asking if the quality of different wines, such as red vs white, can be predicted based on factors such as pH level, sulpher dioxide content, and the amount of alcohol in the drink. The quality will be determined using a 10 point scale. Current research on this topic that insipred this study comes from the article \"Modeling wine preferences by data mining from physicochemical properties\". The following study can be found here: https://www.sciencedirect.com/science/article/pii/S0167923609001377?via=ihub\n",
    "The dataset we will be using is https://www.kaggle.com/yasserh/wine-quality-dataset. The dataset has been made tidy for better comprehension and is included below."
   ]
  },
  {
   "cell_type": "code",
   "execution_count": 1,
   "metadata": {},
   "outputs": [
    {
     "name": "stderr",
     "output_type": "stream",
     "text": [
      "── \u001b[1mAttaching packages\u001b[22m ─────────────────────────────────────── tidyverse 1.3.0 ──\n",
      "\n",
      "\u001b[32m✔\u001b[39m \u001b[34mggplot2\u001b[39m 3.3.2     \u001b[32m✔\u001b[39m \u001b[34mpurrr  \u001b[39m 0.3.4\n",
      "\u001b[32m✔\u001b[39m \u001b[34mtibble \u001b[39m 3.0.3     \u001b[32m✔\u001b[39m \u001b[34mdplyr  \u001b[39m 1.0.2\n",
      "\u001b[32m✔\u001b[39m \u001b[34mtidyr  \u001b[39m 1.1.2     \u001b[32m✔\u001b[39m \u001b[34mstringr\u001b[39m 1.4.0\n",
      "\u001b[32m✔\u001b[39m \u001b[34mreadr  \u001b[39m 1.3.1     \u001b[32m✔\u001b[39m \u001b[34mforcats\u001b[39m 0.5.0\n",
      "\n",
      "Warning message:\n",
      "“package ‘ggplot2’ was built under R version 4.0.1”\n",
      "Warning message:\n",
      "“package ‘tibble’ was built under R version 4.0.2”\n",
      "Warning message:\n",
      "“package ‘tidyr’ was built under R version 4.0.2”\n",
      "Warning message:\n",
      "“package ‘dplyr’ was built under R version 4.0.2”\n",
      "── \u001b[1mConflicts\u001b[22m ────────────────────────────────────────── tidyverse_conflicts() ──\n",
      "\u001b[31m✖\u001b[39m \u001b[34mdplyr\u001b[39m::\u001b[32mfilter()\u001b[39m masks \u001b[34mstats\u001b[39m::filter()\n",
      "\u001b[31m✖\u001b[39m \u001b[34mdplyr\u001b[39m::\u001b[32mlag()\u001b[39m    masks \u001b[34mstats\u001b[39m::lag()\n",
      "\n",
      "Warning message:\n",
      "“package ‘tidymodels’ was built under R version 4.0.2”\n",
      "── \u001b[1mAttaching packages\u001b[22m ────────────────────────────────────── tidymodels 0.1.1 ──\n",
      "\n",
      "\u001b[32m✔\u001b[39m \u001b[34mbroom    \u001b[39m 0.7.0      \u001b[32m✔\u001b[39m \u001b[34mrecipes  \u001b[39m 0.1.13\n",
      "\u001b[32m✔\u001b[39m \u001b[34mdials    \u001b[39m 0.0.9      \u001b[32m✔\u001b[39m \u001b[34mrsample  \u001b[39m 0.0.7 \n",
      "\u001b[32m✔\u001b[39m \u001b[34minfer    \u001b[39m 0.5.4      \u001b[32m✔\u001b[39m \u001b[34mtune     \u001b[39m 0.1.1 \n",
      "\u001b[32m✔\u001b[39m \u001b[34mmodeldata\u001b[39m 0.0.2      \u001b[32m✔\u001b[39m \u001b[34mworkflows\u001b[39m 0.2.0 \n",
      "\u001b[32m✔\u001b[39m \u001b[34mparsnip  \u001b[39m 0.1.3      \u001b[32m✔\u001b[39m \u001b[34myardstick\u001b[39m 0.0.7 \n",
      "\n",
      "Warning message:\n",
      "“package ‘broom’ was built under R version 4.0.2”\n",
      "Warning message:\n",
      "“package ‘dials’ was built under R version 4.0.2”\n",
      "Warning message:\n",
      "“package ‘infer’ was built under R version 4.0.3”\n",
      "Warning message:\n",
      "“package ‘modeldata’ was built under R version 4.0.1”\n",
      "Warning message:\n",
      "“package ‘parsnip’ was built under R version 4.0.2”\n",
      "Warning message:\n",
      "“package ‘recipes’ was built under R version 4.0.1”\n",
      "Warning message:\n",
      "“package ‘tune’ was built under R version 4.0.2”\n",
      "Warning message:\n",
      "“package ‘workflows’ was built under R version 4.0.2”\n",
      "Warning message:\n",
      "“package ‘yardstick’ was built under R version 4.0.2”\n",
      "── \u001b[1mConflicts\u001b[22m ───────────────────────────────────────── tidymodels_conflicts() ──\n",
      "\u001b[31m✖\u001b[39m \u001b[34mscales\u001b[39m::\u001b[32mdiscard()\u001b[39m masks \u001b[34mpurrr\u001b[39m::discard()\n",
      "\u001b[31m✖\u001b[39m \u001b[34mdplyr\u001b[39m::\u001b[32mfilter()\u001b[39m   masks \u001b[34mstats\u001b[39m::filter()\n",
      "\u001b[31m✖\u001b[39m \u001b[34mrecipes\u001b[39m::\u001b[32mfixed()\u001b[39m  masks \u001b[34mstringr\u001b[39m::fixed()\n",
      "\u001b[31m✖\u001b[39m \u001b[34mdplyr\u001b[39m::\u001b[32mlag()\u001b[39m      masks \u001b[34mstats\u001b[39m::lag()\n",
      "\u001b[31m✖\u001b[39m \u001b[34myardstick\u001b[39m::\u001b[32mspec()\u001b[39m masks \u001b[34mreadr\u001b[39m::spec()\n",
      "\u001b[31m✖\u001b[39m \u001b[34mrecipes\u001b[39m::\u001b[32mstep()\u001b[39m   masks \u001b[34mstats\u001b[39m::step()\n",
      "\n",
      "Warning message:\n",
      "“package ‘cowplot’ was built under R version 4.0.3”\n"
     ]
    }
   ],
   "source": [
    "library(tidyverse)\n",
    "library(repr)\n",
    "library(tidymodels)\n",
    "library(cowplot)"
   ]
  },
  {
   "cell_type": "code",
   "execution_count": 2,
   "metadata": {},
   "outputs": [
    {
     "name": "stderr",
     "output_type": "stream",
     "text": [
      "Parsed with column specification:\n",
      "cols(\n",
      "  `fixed acidity` = \u001b[32mcol_double()\u001b[39m,\n",
      "  `volatile acidity` = \u001b[32mcol_double()\u001b[39m,\n",
      "  `citric acid` = \u001b[32mcol_double()\u001b[39m,\n",
      "  `residual sugar` = \u001b[32mcol_double()\u001b[39m,\n",
      "  chlorides = \u001b[32mcol_double()\u001b[39m,\n",
      "  `free sulfur dioxide` = \u001b[32mcol_double()\u001b[39m,\n",
      "  `total sulfur dioxide` = \u001b[32mcol_double()\u001b[39m,\n",
      "  density = \u001b[32mcol_double()\u001b[39m,\n",
      "  pH = \u001b[32mcol_double()\u001b[39m,\n",
      "  sulphates = \u001b[32mcol_double()\u001b[39m,\n",
      "  alcohol = \u001b[32mcol_double()\u001b[39m,\n",
      "  quality = \u001b[32mcol_double()\u001b[39m,\n",
      "  Id = \u001b[32mcol_double()\u001b[39m\n",
      ")\n",
      "\n"
     ]
    },
    {
     "data": {
      "text/html": [
       "<table>\n",
       "<caption>A tibble: 6 × 8</caption>\n",
       "<thead>\n",
       "\t<tr><th scope=col>total.sulfur.dioxide</th><th scope=col>pH</th><th scope=col>alcohol</th><th scope=col>quality</th><th scope=col>residual.sugar</th><th scope=col>chlorides</th><th scope=col>density</th><th scope=col>citric.acid</th></tr>\n",
       "\t<tr><th scope=col>&lt;dbl&gt;</th><th scope=col>&lt;dbl&gt;</th><th scope=col>&lt;dbl&gt;</th><th scope=col>&lt;dbl&gt;</th><th scope=col>&lt;dbl&gt;</th><th scope=col>&lt;dbl&gt;</th><th scope=col>&lt;dbl&gt;</th><th scope=col>&lt;dbl&gt;</th></tr>\n",
       "</thead>\n",
       "<tbody>\n",
       "\t<tr><td>34</td><td>3.51</td><td>9.4</td><td>5</td><td>1.9</td><td>0.076</td><td>0.9978</td><td>0.00</td></tr>\n",
       "\t<tr><td>67</td><td>3.20</td><td>9.8</td><td>5</td><td>2.6</td><td>0.098</td><td>0.9968</td><td>0.00</td></tr>\n",
       "\t<tr><td>54</td><td>3.26</td><td>9.8</td><td>5</td><td>2.3</td><td>0.092</td><td>0.9970</td><td>0.04</td></tr>\n",
       "\t<tr><td>60</td><td>3.16</td><td>9.8</td><td>6</td><td>1.9</td><td>0.075</td><td>0.9980</td><td>0.56</td></tr>\n",
       "\t<tr><td>34</td><td>3.51</td><td>9.4</td><td>5</td><td>1.9</td><td>0.076</td><td>0.9978</td><td>0.00</td></tr>\n",
       "\t<tr><td>40</td><td>3.51</td><td>9.4</td><td>5</td><td>1.8</td><td>0.075</td><td>0.9978</td><td>0.00</td></tr>\n",
       "</tbody>\n",
       "</table>\n"
      ],
      "text/latex": [
       "A tibble: 6 × 8\n",
       "\\begin{tabular}{llllllll}\n",
       " total.sulfur.dioxide & pH & alcohol & quality & residual.sugar & chlorides & density & citric.acid\\\\\n",
       " <dbl> & <dbl> & <dbl> & <dbl> & <dbl> & <dbl> & <dbl> & <dbl>\\\\\n",
       "\\hline\n",
       "\t 34 & 3.51 & 9.4 & 5 & 1.9 & 0.076 & 0.9978 & 0.00\\\\\n",
       "\t 67 & 3.20 & 9.8 & 5 & 2.6 & 0.098 & 0.9968 & 0.00\\\\\n",
       "\t 54 & 3.26 & 9.8 & 5 & 2.3 & 0.092 & 0.9970 & 0.04\\\\\n",
       "\t 60 & 3.16 & 9.8 & 6 & 1.9 & 0.075 & 0.9980 & 0.56\\\\\n",
       "\t 34 & 3.51 & 9.4 & 5 & 1.9 & 0.076 & 0.9978 & 0.00\\\\\n",
       "\t 40 & 3.51 & 9.4 & 5 & 1.8 & 0.075 & 0.9978 & 0.00\\\\\n",
       "\\end{tabular}\n"
      ],
      "text/markdown": [
       "\n",
       "A tibble: 6 × 8\n",
       "\n",
       "| total.sulfur.dioxide &lt;dbl&gt; | pH &lt;dbl&gt; | alcohol &lt;dbl&gt; | quality &lt;dbl&gt; | residual.sugar &lt;dbl&gt; | chlorides &lt;dbl&gt; | density &lt;dbl&gt; | citric.acid &lt;dbl&gt; |\n",
       "|---|---|---|---|---|---|---|---|\n",
       "| 34 | 3.51 | 9.4 | 5 | 1.9 | 0.076 | 0.9978 | 0.00 |\n",
       "| 67 | 3.20 | 9.8 | 5 | 2.6 | 0.098 | 0.9968 | 0.00 |\n",
       "| 54 | 3.26 | 9.8 | 5 | 2.3 | 0.092 | 0.9970 | 0.04 |\n",
       "| 60 | 3.16 | 9.8 | 6 | 1.9 | 0.075 | 0.9980 | 0.56 |\n",
       "| 34 | 3.51 | 9.4 | 5 | 1.9 | 0.076 | 0.9978 | 0.00 |\n",
       "| 40 | 3.51 | 9.4 | 5 | 1.8 | 0.075 | 0.9978 | 0.00 |\n",
       "\n"
      ],
      "text/plain": [
       "  total.sulfur.dioxide pH   alcohol quality residual.sugar chlorides density\n",
       "1 34                   3.51 9.4     5       1.9            0.076     0.9978 \n",
       "2 67                   3.20 9.8     5       2.6            0.098     0.9968 \n",
       "3 54                   3.26 9.8     5       2.3            0.092     0.9970 \n",
       "4 60                   3.16 9.8     6       1.9            0.075     0.9980 \n",
       "5 34                   3.51 9.4     5       1.9            0.076     0.9978 \n",
       "6 40                   3.51 9.4     5       1.8            0.075     0.9978 \n",
       "  citric.acid\n",
       "1 0.00       \n",
       "2 0.00       \n",
       "3 0.04       \n",
       "4 0.56       \n",
       "5 0.00       \n",
       "6 0.00       "
      ]
     },
     "metadata": {},
     "output_type": "display_data"
    }
   ],
   "source": [
    "wine_data <- read_csv('data/WineQT.csv') \n",
    "colnames(wine_data) <- make.names(colnames(wine_data))\n",
    "\n",
    "wine_data_clean <- wine_data %>%\n",
    "select(total.sulfur.dioxide, pH, alcohol, quality, residual.sugar, chlorides, density, citric.acid)\n",
    "\n",
    "head(wine_data_clean)\n"
   ]
  },
  {
   "cell_type": "code",
   "execution_count": 3,
   "metadata": {},
   "outputs": [],
   "source": [
    "# train the data\n",
    "\n",
    "wine_split <- initial_split(wine_data_clean, prop = 0.75, strata = quality)\n",
    "wine_train <- training(wine_split)\n",
    "wine_test <- testing(wine_split)"
   ]
  },
  {
   "cell_type": "code",
   "execution_count": 8,
   "metadata": {},
   "outputs": [
    {
     "data": {
      "image/png": "[encoded data removed]",
      "text/plain": [
       "plot without title"
      ]
     },
     "metadata": {
      "image/png": {
       "height": 600,
       "width": 600
      }
     },
     "output_type": "display_data"
    }
   ],
   "source": [
    "# Generate plots\n",
    "\n",
    "options(repr.plot.width = 10, repr.plot.height = 10)\n",
    "\n",
    "wine_plot_so2 <- wine_train %>%\n",
    "    ggplot(aes(x = quality,\n",
    "               y = total.sulfur.dioxide)) +\n",
    "    geom_bar(stat = 'identity')+\n",
    "    xlab('Quality (Score between 1 to 10)') +\n",
    "    ylab ('Total Sulphur Dioxide (mg/dm3)') +\n",
    "    theme(text = element_text(size = 10))\n",
    "\n",
    "wine_plot_pH <- wine_train %>%\n",
    "    ggplot(aes(x = quality,\n",
    "               y = pH)) +\n",
    "    geom_bar(stat = 'identity')+\n",
    "    xlab('Quality (Score between 1 to 10)') + \n",
    "    ylab ('pH') +\n",
    "    theme(text = element_text(size = 10))\n",
    "\n",
    "wine_plot_alcohol <- wine_train %>%\n",
    "    ggplot(aes(x = quality,\n",
    "               y = alcohol)) +\n",
    "    geom_bar(stat = 'identity')+\n",
    "    xlab('Quality (Score between 1 to 10)') +\n",
    "    ylab ('alcohol (vol.%)') +\n",
    "    theme(text = element_text(size = 10))\n",
    "\n",
    "wine_plot_residual.sugar <- wine_train %>%\n",
    "    ggplot(aes(x = quality,\n",
    "               y = residual.sugar)) +\n",
    "    geom_bar(stat = 'identity')+\n",
    "    xlab('Quality (Score between 1 to 10)') +\n",
    "    ylab ('alcohol (vol.%)') +\n",
    "    theme(text = element_text(size = 10))\n",
    "\n",
    "wine_plot_chlorides <- wine_train %>%\n",
    "    ggplot(aes(x = quality,\n",
    "               y = chlorides)) +\n",
    "    geom_bar(stat = 'identity')+\n",
    "    xlab('Quality (Score between 1 to 10)') +\n",
    "    ylab ('alcohol (vol.%)') +\n",
    "    theme(text = element_text(size = 10))\n",
    "\n",
    "wine_plot_density <- wine_train %>%\n",
    "    ggplot(aes(x = quality,\n",
    "               y = density)) +\n",
    "    geom_bar(stat = 'identity')+\n",
    "    xlab('Quality (Score between 1 to 10)') +\n",
    "    ylab ('alcohol (vol.%)') +\n",
    "    theme(text = element_text(size = 10))\n",
    "\n",
    "wine_plot_citric.acid <- wine_train %>%\n",
    "    ggplot(aes(x = quality,\n",
    "               y = citric.acid)) +\n",
    "    geom_bar(stat = 'identity')+\n",
    "    xlab('Quality (Score between 1 to 10)') +\n",
    "    ylab ('alcohol (vol.%)') +\n",
    "    theme(text = element_text(size = 10))\n",
    "\n",
    "plot_grid(wine_plot_so2, wine_plot_pH, wine_plot_alcohol, wine_plot_residual.sugar, wine_plot_chlorides, wine_plot_density, wine_plot_citric.acid)"
   ]
  },
  {
   "cell_type": "markdown",
   "metadata": {},
   "source": [
    "### Method"
   ]
  },
  {
   "cell_type": "markdown",
   "metadata": {},
   "source": [
    "The total.sulfur.dioxide, pH, alcohol, residual.sugar, chlorides, density, and citric.acid would be chosen to predict the quality of wine. The variables above all have linear relationship with quality, so they can be used to predict the quality."
   ]
  },
  {
   "cell_type": "code",
   "execution_count": null,
   "metadata": {},
   "outputs": [],
   "source": [
    "options(repr.plot.width = 10, repr.plot.height = 10)\n",
    "\n",
    "relation_tsd <- wine_train %>%\n",
    "   ggplot(aes(x = total.sulfur.dioxide, y = quality)) +\n",
    "   geom_point(alpha = 0.1) +\n",
    "   xlab(\"total sulfur dioxide\") +\n",
    "   ylab(\"quality\")\n",
    "\n",
    "relation_ph <- wine_train %>%\n",
    "   ggplot(aes(x = pH, y = quality)) +\n",
    "   geom_point(alpha = 0.1) +\n",
    "   xlab(\"pH\") +\n",
    "   ylab(\"quality\")\n",
    "\n",
    "relation_ah <- wine_train %>%\n",
    "   ggplot(aes(x = alcohol, y = quality)) +\n",
    "   geom_point(alpha = 0.1) +\n",
    "   xlab(\"alcohol\") +\n",
    "   ylab(\"quality\")\n",
    "\n",
    "relation_rs <- wine_train %>%\n",
    "   ggplot(aes(x = residual.sugar, y = quality)) +\n",
    "   geom_point(alpha = 0.1) +\n",
    "   xlab(\"residual sugar\") +\n",
    "   ylab(\"quality\")\n",
    "\n",
    "relation_ch <- wine_train %>%\n",
    "   ggplot(aes(x = chlorides, y = quality)) +\n",
    "   geom_point(alpha = 0.1) +\n",
    "   xlab(\"chlorides\") +\n",
    "   ylab(\"quality\")\n",
    "\n",
    "relation_ds <- wine_train %>%\n",
    "   ggplot(aes(x = density, y = quality)) +\n",
    "   geom_point(alpha = 0.1) +\n",
    "   xlab(\"density\") +\n",
    "   ylab(\"quality\")\n",
    "\n",
    "relation_ca <- wine_train %>%\n",
    "   ggplot(aes(x = citric.acid, y = quality)) +\n",
    "   geom_point(alpha = 0.1) +\n",
    "   xlab(\"citric acid\") +\n",
    "   ylab(\"quality\")\n",
    "\n",
    "plot_grid(relation_tsd, relation_ph, relation_ah, relation_rs, relation_ch, relation_ds, relation_ca)"
   ]
  },
  {
   "cell_type": "markdown",
   "metadata": {},
   "source": [
    "### Expected Outcome\n",
    "The expected outcome of our study is that we will be able to predict the quality of wine based on the given pH, the amount of slupher dioxide, and the amount of alcohol in the wine. The impact of the findings in a real world context would include improving wine production and the ability to target techniques that produce a more favourable taste of wine. The impact of our direct project findings is to create a fast and accessible way to undertsand the quality of a certain wine in comparison to others by viewing it on a given plot."
   ]
  },
  {
   "cell_type": "code",
   "execution_count": null,
   "metadata": {},
   "outputs": [],
   "source": []
  }
 ],
 "metadata": {
  "kernelspec": {
   "display_name": "R",
   "language": "R",
   "name": "ir"
  },
  "language_info": {
   "codemirror_mode": "r",
   "file_extension": ".r",
   "mimetype": "text/x-r-source",
   "name": "R",
   "pygments_lexer": "r",
   "version": "4.0.0"
  }
 },
 "nbformat": 4,
 "nbformat_minor": 4
}
