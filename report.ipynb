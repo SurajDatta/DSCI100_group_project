{
 "cells": [
  {
   "cell_type": "code",
   "execution_count": 1,
   "metadata": {},
   "outputs": [
    {
     "name": "stderr",
     "output_type": "stream",
     "text": [
      "── \u001b[1mAttaching packages\u001b[22m ─────────────────────────────────────── tidyverse 1.3.0 ──\n",
      "\n",
      "\u001b[32m✔\u001b[39m \u001b[34mggplot2\u001b[39m 3.3.2     \u001b[32m✔\u001b[39m \u001b[34mpurrr  \u001b[39m 0.3.4\n",
      "\u001b[32m✔\u001b[39m \u001b[34mtibble \u001b[39m 3.0.3     \u001b[32m✔\u001b[39m \u001b[34mdplyr  \u001b[39m 1.0.2\n",
      "\u001b[32m✔\u001b[39m \u001b[34mtidyr  \u001b[39m 1.1.2     \u001b[32m✔\u001b[39m \u001b[34mstringr\u001b[39m 1.4.0\n",
      "\u001b[32m✔\u001b[39m \u001b[34mreadr  \u001b[39m 1.3.1     \u001b[32m✔\u001b[39m \u001b[34mforcats\u001b[39m 0.5.0\n",
      "\n",
      "Warning message:\n",
      "“package ‘ggplot2’ was built under R version 4.0.1”\n",
      "Warning message:\n",
      "“package ‘tibble’ was built under R version 4.0.2”\n",
      "Warning message:\n",
      "“package ‘tidyr’ was built under R version 4.0.2”\n",
      "Warning message:\n",
      "“package ‘dplyr’ was built under R version 4.0.2”\n",
      "── \u001b[1mConflicts\u001b[22m ────────────────────────────────────────── tidyverse_conflicts() ──\n",
      "\u001b[31m✖\u001b[39m \u001b[34mdplyr\u001b[39m::\u001b[32mfilter()\u001b[39m masks \u001b[34mstats\u001b[39m::filter()\n",
      "\u001b[31m✖\u001b[39m \u001b[34mdplyr\u001b[39m::\u001b[32mlag()\u001b[39m    masks \u001b[34mstats\u001b[39m::lag()\n",
      "\n",
      "Warning message:\n",
      "“package ‘tidymodels’ was built under R version 4.0.2”\n",
      "── \u001b[1mAttaching packages\u001b[22m ────────────────────────────────────── tidymodels 0.1.1 ──\n",
      "\n",
      "\u001b[32m✔\u001b[39m \u001b[34mbroom    \u001b[39m 0.7.0      \u001b[32m✔\u001b[39m \u001b[34mrecipes  \u001b[39m 0.1.13\n",
      "\u001b[32m✔\u001b[39m \u001b[34mdials    \u001b[39m 0.0.9      \u001b[32m✔\u001b[39m \u001b[34mrsample  \u001b[39m 0.0.7 \n",
      "\u001b[32m✔\u001b[39m \u001b[34minfer    \u001b[39m 0.5.4      \u001b[32m✔\u001b[39m \u001b[34mtune     \u001b[39m 0.1.1 \n",
      "\u001b[32m✔\u001b[39m \u001b[34mmodeldata\u001b[39m 0.0.2      \u001b[32m✔\u001b[39m \u001b[34mworkflows\u001b[39m 0.2.0 \n",
      "\u001b[32m✔\u001b[39m \u001b[34mparsnip  \u001b[39m 0.1.3      \u001b[32m✔\u001b[39m \u001b[34myardstick\u001b[39m 0.0.7 \n",
      "\n",
      "Warning message:\n",
      "“package ‘broom’ was built under R version 4.0.2”\n",
      "Warning message:\n",
      "“package ‘dials’ was built under R version 4.0.2”\n",
      "Warning message:\n",
      "“package ‘infer’ was built under R version 4.0.3”\n",
      "Warning message:\n",
      "“package ‘modeldata’ was built under R version 4.0.1”\n",
      "Warning message:\n",
      "“package ‘parsnip’ was built under R version 4.0.2”\n",
      "Warning message:\n",
      "“package ‘recipes’ was built under R version 4.0.1”\n",
      "Warning message:\n",
      "“package ‘tune’ was built under R version 4.0.2”\n",
      "Warning message:\n",
      "“package ‘workflows’ was built under R version 4.0.2”\n",
      "Warning message:\n",
      "“package ‘yardstick’ was built under R version 4.0.2”\n",
      "── \u001b[1mConflicts\u001b[22m ───────────────────────────────────────── tidymodels_conflicts() ──\n",
      "\u001b[31m✖\u001b[39m \u001b[34mscales\u001b[39m::\u001b[32mdiscard()\u001b[39m masks \u001b[34mpurrr\u001b[39m::discard()\n",
      "\u001b[31m✖\u001b[39m \u001b[34mdplyr\u001b[39m::\u001b[32mfilter()\u001b[39m   masks \u001b[34mstats\u001b[39m::filter()\n",
      "\u001b[31m✖\u001b[39m \u001b[34mrecipes\u001b[39m::\u001b[32mfixed()\u001b[39m  masks \u001b[34mstringr\u001b[39m::fixed()\n",
      "\u001b[31m✖\u001b[39m \u001b[34mdplyr\u001b[39m::\u001b[32mlag()\u001b[39m      masks \u001b[34mstats\u001b[39m::lag()\n",
      "\u001b[31m✖\u001b[39m \u001b[34myardstick\u001b[39m::\u001b[32mspec()\u001b[39m masks \u001b[34mreadr\u001b[39m::spec()\n",
      "\u001b[31m✖\u001b[39m \u001b[34mrecipes\u001b[39m::\u001b[32mstep()\u001b[39m   masks \u001b[34mstats\u001b[39m::step()\n",
      "\n",
      "Warning message:\n",
      "“package ‘cowplot’ was built under R version 4.0.3”\n"
     ]
    }
   ],
   "source": [
    "# Loading package\n",
    "library(tidyverse)\n",
    "library(repr)\n",
    "library(tidymodels)\n",
    "library(cowplot)"
   ]
  },
  {
   "cell_type": "code",
   "execution_count": 2,
   "metadata": {},
   "outputs": [
    {
     "name": "stderr",
     "output_type": "stream",
     "text": [
      "Parsed with column specification:\n",
      "cols(\n",
      "  `fixed acidity` = \u001b[32mcol_double()\u001b[39m,\n",
      "  `volatile acidity` = \u001b[32mcol_double()\u001b[39m,\n",
      "  `citric acid` = \u001b[32mcol_double()\u001b[39m,\n",
      "  `residual sugar` = \u001b[32mcol_double()\u001b[39m,\n",
      "  chlorides = \u001b[32mcol_double()\u001b[39m,\n",
      "  `free sulfur dioxide` = \u001b[32mcol_double()\u001b[39m,\n",
      "  `total sulfur dioxide` = \u001b[32mcol_double()\u001b[39m,\n",
      "  density = \u001b[32mcol_double()\u001b[39m,\n",
      "  pH = \u001b[32mcol_double()\u001b[39m,\n",
      "  sulphates = \u001b[32mcol_double()\u001b[39m,\n",
      "  alcohol = \u001b[32mcol_double()\u001b[39m,\n",
      "  quality = \u001b[32mcol_double()\u001b[39m,\n",
      "  Id = \u001b[32mcol_double()\u001b[39m\n",
      ")\n",
      "\n"
     ]
    },
    {
     "data": {
      "text/html": [
       "<table>\n",
       "<caption>A tibble: 6 × 8</caption>\n",
       "<thead>\n",
       "\t<tr><th scope=col>total.sulfur.dioxide</th><th scope=col>pH</th><th scope=col>alcohol</th><th scope=col>quality</th><th scope=col>residual.sugar</th><th scope=col>chlorides</th><th scope=col>density</th><th scope=col>citric.acid</th></tr>\n",
       "\t<tr><th scope=col>&lt;dbl&gt;</th><th scope=col>&lt;dbl&gt;</th><th scope=col>&lt;dbl&gt;</th><th scope=col>&lt;fct&gt;</th><th scope=col>&lt;dbl&gt;</th><th scope=col>&lt;dbl&gt;</th><th scope=col>&lt;dbl&gt;</th><th scope=col>&lt;dbl&gt;</th></tr>\n",
       "</thead>\n",
       "<tbody>\n",
       "\t<tr><td>34</td><td>3.51</td><td>9.4</td><td>5</td><td>1.9</td><td>0.076</td><td>0.9978</td><td>0.00</td></tr>\n",
       "\t<tr><td>67</td><td>3.20</td><td>9.8</td><td>5</td><td>2.6</td><td>0.098</td><td>0.9968</td><td>0.00</td></tr>\n",
       "\t<tr><td>54</td><td>3.26</td><td>9.8</td><td>5</td><td>2.3</td><td>0.092</td><td>0.9970</td><td>0.04</td></tr>\n",
       "\t<tr><td>60</td><td>3.16</td><td>9.8</td><td>6</td><td>1.9</td><td>0.075</td><td>0.9980</td><td>0.56</td></tr>\n",
       "\t<tr><td>34</td><td>3.51</td><td>9.4</td><td>5</td><td>1.9</td><td>0.076</td><td>0.9978</td><td>0.00</td></tr>\n",
       "\t<tr><td>40</td><td>3.51</td><td>9.4</td><td>5</td><td>1.8</td><td>0.075</td><td>0.9978</td><td>0.00</td></tr>\n",
       "</tbody>\n",
       "</table>\n"
      ],
      "text/latex": [
       "A tibble: 6 × 8\n",
       "\\begin{tabular}{llllllll}\n",
       " total.sulfur.dioxide & pH & alcohol & quality & residual.sugar & chlorides & density & citric.acid\\\\\n",
       " <dbl> & <dbl> & <dbl> & <fct> & <dbl> & <dbl> & <dbl> & <dbl>\\\\\n",
       "\\hline\n",
       "\t 34 & 3.51 & 9.4 & 5 & 1.9 & 0.076 & 0.9978 & 0.00\\\\\n",
       "\t 67 & 3.20 & 9.8 & 5 & 2.6 & 0.098 & 0.9968 & 0.00\\\\\n",
       "\t 54 & 3.26 & 9.8 & 5 & 2.3 & 0.092 & 0.9970 & 0.04\\\\\n",
       "\t 60 & 3.16 & 9.8 & 6 & 1.9 & 0.075 & 0.9980 & 0.56\\\\\n",
       "\t 34 & 3.51 & 9.4 & 5 & 1.9 & 0.076 & 0.9978 & 0.00\\\\\n",
       "\t 40 & 3.51 & 9.4 & 5 & 1.8 & 0.075 & 0.9978 & 0.00\\\\\n",
       "\\end{tabular}\n"
      ],
      "text/markdown": [
       "\n",
       "A tibble: 6 × 8\n",
       "\n",
       "| total.sulfur.dioxide &lt;dbl&gt; | pH &lt;dbl&gt; | alcohol &lt;dbl&gt; | quality &lt;fct&gt; | residual.sugar &lt;dbl&gt; | chlorides &lt;dbl&gt; | density &lt;dbl&gt; | citric.acid &lt;dbl&gt; |\n",
       "|---|---|---|---|---|---|---|---|\n",
       "| 34 | 3.51 | 9.4 | 5 | 1.9 | 0.076 | 0.9978 | 0.00 |\n",
       "| 67 | 3.20 | 9.8 | 5 | 2.6 | 0.098 | 0.9968 | 0.00 |\n",
       "| 54 | 3.26 | 9.8 | 5 | 2.3 | 0.092 | 0.9970 | 0.04 |\n",
       "| 60 | 3.16 | 9.8 | 6 | 1.9 | 0.075 | 0.9980 | 0.56 |\n",
       "| 34 | 3.51 | 9.4 | 5 | 1.9 | 0.076 | 0.9978 | 0.00 |\n",
       "| 40 | 3.51 | 9.4 | 5 | 1.8 | 0.075 | 0.9978 | 0.00 |\n",
       "\n"
      ],
      "text/plain": [
       "  total.sulfur.dioxide pH   alcohol quality residual.sugar chlorides density\n",
       "1 34                   3.51 9.4     5       1.9            0.076     0.9978 \n",
       "2 67                   3.20 9.8     5       2.6            0.098     0.9968 \n",
       "3 54                   3.26 9.8     5       2.3            0.092     0.9970 \n",
       "4 60                   3.16 9.8     6       1.9            0.075     0.9980 \n",
       "5 34                   3.51 9.4     5       1.9            0.076     0.9978 \n",
       "6 40                   3.51 9.4     5       1.8            0.075     0.9978 \n",
       "  citric.acid\n",
       "1 0.00       \n",
       "2 0.00       \n",
       "3 0.04       \n",
       "4 0.56       \n",
       "5 0.00       \n",
       "6 0.00       "
      ]
     },
     "metadata": {},
     "output_type": "display_data"
    }
   ],
   "source": [
    "# Import dataset\n",
    "url <- \"https://raw.githubusercontent.com/SurajDatta/DSCI100_group_project/main/data/WineQT.csv\"\n",
    "wine_data <- read_csv(url)\n",
    "colnames(wine_data) <- make.names(colnames(wine_data))\n",
    "\n",
    "wine_data_clean <- wine_data %>%\n",
    "     select(total.sulfur.dioxide, pH, alcohol, quality, residual.sugar, chlorides, density, citric.acid) %>%\n",
    "     mutate(quality = as_factor(quality))\n",
    "head(wine_data_clean)"
   ]
  },
  {
   "cell_type": "markdown",
   "metadata": {},
   "source": [
    "|Variable             |Explanation                                                                       |\n",
    "|---------------------|----------------------------------------------------------------------------------|\n",
    "|total.sulfur.dioxide |The total amount of sulfur dioxide in wine.                                       |\n",
    "|pH                   |Measure of how acidic/basic wine is.                                              | \n",
    "|alcohol              |The alchohol amount in wine.                                                      |\n",
    "|quality              |The quality of wine.                                                              |\n",
    "|residual.sugar       |The residual sugar in the wine after the sugar fermentation carried out by yeasts.|\n",
    "|chlorides            |The chlorides amount in wine.                                                     |\n",
    "|density              |The density of wine.                                                              |      \n",
    "|citric.acid          |The amount of citric acid in wine.                                                |\n",
    "\n",
    "Table: List of Portantial Preditors"
   ]
  },
  {
   "cell_type": "code",
   "execution_count": 3,
   "metadata": {},
   "outputs": [],
   "source": [
    "# data split\n",
    "wine_split <- initial_split(wine_data_clean, prop = 0.75, strata = quality)\n",
    "wine_train <- training(wine_split)\n",
    "wine_test <- testing(wine_split)"
   ]
  },
  {
   "cell_type": "code",
   "execution_count": null,
   "metadata": {},
   "outputs": [
    {
     "name": "stdout",
     "output_type": "stream",
     "text": [
      "[1] \"total.sulfur.dioxide\"\n"
     ]
    },
    {
     "name": "stderr",
     "output_type": "stream",
     "text": [
      "\u001b[33m!\u001b[39m \u001b[33mFold2: internal: No observations were detected in `truth` for level(s): '3'\n",
      "Com...\u001b[39m\n",
      "\n",
      "\u001b[33m!\u001b[39m \u001b[33mFold4: internal: No observations were detected in `truth` for level(s): '3'\n",
      "Com...\u001b[39m\n",
      "\n"
     ]
    }
   ],
   "source": [
    "set.seed(1)\n",
    "\n",
    "# Create list of all preditors\n",
    "predictors <- c(\"total.sulfur.dioxide\", \"pH\", \"alcohol\", \"quality\", \n",
    "                \"residual.sugar\", \"chlorides\", \"density\", \"citric.acid\")\n",
    "\n",
    "# Set results dataframe containing rows of single preditors, the best k, and the accuracy.\n",
    "results <- tibble()\n",
    "results <- mutate(results, predictor = \"\", best_k = 0, accuracy = 0)\n",
    "\n",
    "for (pred in predictors) {\n",
    "    \n",
    "    print(pred)\n",
    "    \n",
    "    # Select single predictor for the recipe \n",
    "    train_data <- wine_train %>%\n",
    "       select(quality, all_of(pred))\n",
    "    \n",
    "    train_test <- wine_test %>%\n",
    "       select(quality, all_of(pred))\n",
    "    \n",
    "    \n",
    "    wine_recipe <- recipe(quality ~. , data = wine_train) %>%\n",
    "      step_scale(all_predictors()) %>%\n",
    "      step_center(all_predictors())\n",
    "\n",
    "    knn_tune <- nearest_neighbor(weight_func = \"rectangular\", neighbors = tune()) %>%\n",
    "       set_engine(\"kknn\") %>%\n",
    "       set_mode(\"classification\")\n",
    "\n",
    "     wine_vfold <- vfold_cv(wine_train, v = 5, strata = quality)\n",
    "\n",
    "    gridvals = tibble(neighbors = seq(1, 100))\n",
    "    \n",
    "     knn_results <- workflow() %>%\n",
    "       add_recipe(wine_recipe) %>%\n",
    "       add_model(knn_tune) %>%\n",
    "       tune_grid(resamples = wine_vfold, grid = gridvals) %>%\n",
    "       collect_metrics()\n",
    "\n",
    "\n",
    "      accuracy <- knn_results %>% \n",
    "         filter(.metric == \"accuracy\") %>%\n",
    "         arrange(mean) %>%\n",
    "         slice(1) %>%\n",
    "         pull(mean)\n",
    "      accuracy\n",
    "\n",
    "      best_k <- knn_results %>% \n",
    "         filter(.metric == \"accuracy\") %>%\n",
    "         arrange(mean) %>%\n",
    "         slice(1) %>%\n",
    "         pull(neighbors)\n",
    "      best_k\n",
    "    \n",
    "      results <- results %>%\n",
    "         add_row(predictor = pred, best_k = best_k, accuracy = accuracy)\n",
    "}"
   ]
  },
  {
   "cell_type": "code",
   "execution_count": null,
   "metadata": {},
   "outputs": [],
   "source": [
    "results %>% arrange(accuracy)"
   ]
  },
  {
   "cell_type": "code",
   "execution_count": null,
   "metadata": {},
   "outputs": [],
   "source": []
  }
 ],
 "metadata": {
  "kernelspec": {
   "display_name": "R",
   "language": "R",
   "name": "ir"
  },
  "language_info": {
   "codemirror_mode": "r",
   "file_extension": ".r",
   "mimetype": "text/x-r-source",
   "name": "R",
   "pygments_lexer": "r",
   "version": "4.0.0"
  }
 },
 "nbformat": 4,
 "nbformat_minor": 4
}
