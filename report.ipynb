{
 "cells": [
  {
   "cell_type": "markdown",
   "metadata": {},
   "source": [
    "### Title: Making Prediction of Wine Quality"
   ]
  },
  {
   "cell_type": "markdown",
   "metadata": {},
   "source": [
    "### Introduction\n",
    "\n",
    "For our group project we will be predicting the quality of different wine samples given different character traits of the wine. When wine is being processed for production and storage, it undergoes an oxidation reaction and loses some of its fruit aromas. However, this can be prevented buy adding preservatives such as sulpher dioxide. This acts as an antiseptic which prevents the prominent flavours from being lost over time and helps preserve the quality of the drink. In our study we will be asking if the quality of different wines, such as red vs white, can be predicted based on differnent factors. The factors we will be investigating include pH level, alcohol (vol%), residual sugar (g/dm^3), chlorides (g(sodium chloride)/dm3), density (g/cm^3), and citric acid (g/dm3). The quality will be determined using a 10 point scale. Current research on this topic that insipred this study comes from the article \"Modeling wine preferences by data mining from physicochemical properties\". The following study can be found here: https://www.sciencedirect.com/science/article/pii/S0167923609001377?via=ihub The dataset we will be using is https://www.kaggle.com/yasserh/wine-quality-dataset. The dataset has been made tidy for better comprehension and is included below."
   ]
  },
  {
   "cell_type": "markdown",
   "metadata": {},
   "source": [
    "### Method and Results\n",
    "\n",
    "We will be conducting our data analysis by tidying a dataset, and creating visualizations to predict the quality of wine using factors such as the total.sulfur.dioxide, pH, alcohol, residual.sugar, chlorides, density, and citric.acid. While some variables have a linear relationship with quality, some not so much. But, they can be used to predict the quality after we train our model with the training data. Some future questions this could lead to include the questioning which features that together create a prefered taste and how preservatives influcence the quality of of wine with time. However, there are variables such as Chlorides and residual sugar which dont have much difference in the mean, hence would eventially have to be swapped with other variables. The plots related to all variables vs quality show how each of them differes as the quality of the wine increases. Some decrease, some increase, but through these differences we should be able to see some amazing predictions (and some even surprising ones) regarding the quality of a wine. We first planned on doing a scatter plot and a box plot, but since quality is distinct, we did a crossover and decided to overlay scatter plot over each individual box plot for each quality. This is because we could recognize the distribution between quality and the variables in y axis. We then scaled all the data and centered it so the uneveness in the data is minimized and we could properly analyze the centralized data. However, even after being scaled there doesnt seem to be much difference btween actual plot and scaled plot. "
   ]
  },
  {
   "cell_type": "code",
   "execution_count": 1,
   "metadata": {},
   "outputs": [
    {
     "name": "stderr",
     "output_type": "stream",
     "text": [
      "── \u001b[1mAttaching packages\u001b[22m ─────────────────────────────────────── tidyverse 1.3.0 ──\n",
      "\n",
      "\u001b[32m✔\u001b[39m \u001b[34mggplot2\u001b[39m 3.3.2     \u001b[32m✔\u001b[39m \u001b[34mpurrr  \u001b[39m 0.3.4\n",
      "\u001b[32m✔\u001b[39m \u001b[34mtibble \u001b[39m 3.0.3     \u001b[32m✔\u001b[39m \u001b[34mdplyr  \u001b[39m 1.0.2\n",
      "\u001b[32m✔\u001b[39m \u001b[34mtidyr  \u001b[39m 1.1.2     \u001b[32m✔\u001b[39m \u001b[34mstringr\u001b[39m 1.4.0\n",
      "\u001b[32m✔\u001b[39m \u001b[34mreadr  \u001b[39m 1.3.1     \u001b[32m✔\u001b[39m \u001b[34mforcats\u001b[39m 0.5.0\n",
      "\n",
      "Warning message:\n",
      "“package ‘ggplot2’ was built under R version 4.0.1”\n",
      "Warning message:\n",
      "“package ‘tibble’ was built under R version 4.0.2”\n",
      "Warning message:\n",
      "“package ‘tidyr’ was built under R version 4.0.2”\n",
      "Warning message:\n",
      "“package ‘dplyr’ was built under R version 4.0.2”\n",
      "── \u001b[1mConflicts\u001b[22m ────────────────────────────────────────── tidyverse_conflicts() ──\n",
      "\u001b[31m✖\u001b[39m \u001b[34mdplyr\u001b[39m::\u001b[32mfilter()\u001b[39m masks \u001b[34mstats\u001b[39m::filter()\n",
      "\u001b[31m✖\u001b[39m \u001b[34mdplyr\u001b[39m::\u001b[32mlag()\u001b[39m    masks \u001b[34mstats\u001b[39m::lag()\n",
      "\n",
      "Warning message:\n",
      "“package ‘tidymodels’ was built under R version 4.0.2”\n",
      "── \u001b[1mAttaching packages\u001b[22m ────────────────────────────────────── tidymodels 0.1.1 ──\n",
      "\n",
      "\u001b[32m✔\u001b[39m \u001b[34mbroom    \u001b[39m 0.7.0      \u001b[32m✔\u001b[39m \u001b[34mrecipes  \u001b[39m 0.1.13\n",
      "\u001b[32m✔\u001b[39m \u001b[34mdials    \u001b[39m 0.0.9      \u001b[32m✔\u001b[39m \u001b[34mrsample  \u001b[39m 0.0.7 \n",
      "\u001b[32m✔\u001b[39m \u001b[34minfer    \u001b[39m 0.5.4      \u001b[32m✔\u001b[39m \u001b[34mtune     \u001b[39m 0.1.1 \n",
      "\u001b[32m✔\u001b[39m \u001b[34mmodeldata\u001b[39m 0.0.2      \u001b[32m✔\u001b[39m \u001b[34mworkflows\u001b[39m 0.2.0 \n",
      "\u001b[32m✔\u001b[39m \u001b[34mparsnip  \u001b[39m 0.1.3      \u001b[32m✔\u001b[39m \u001b[34myardstick\u001b[39m 0.0.7 \n",
      "\n",
      "Warning message:\n",
      "“package ‘broom’ was built under R version 4.0.2”\n",
      "Warning message:\n",
      "“package ‘dials’ was built under R version 4.0.2”\n",
      "Warning message:\n",
      "“package ‘infer’ was built under R version 4.0.3”\n",
      "Warning message:\n",
      "“package ‘modeldata’ was built under R version 4.0.1”\n",
      "Warning message:\n",
      "“package ‘parsnip’ was built under R version 4.0.2”\n",
      "Warning message:\n",
      "“package ‘recipes’ was built under R version 4.0.1”\n",
      "Warning message:\n",
      "“package ‘tune’ was built under R version 4.0.2”\n",
      "Warning message:\n",
      "“package ‘workflows’ was built under R version 4.0.2”\n",
      "Warning message:\n",
      "“package ‘yardstick’ was built under R version 4.0.2”\n",
      "── \u001b[1mConflicts\u001b[22m ───────────────────────────────────────── tidymodels_conflicts() ──\n",
      "\u001b[31m✖\u001b[39m \u001b[34mscales\u001b[39m::\u001b[32mdiscard()\u001b[39m masks \u001b[34mpurrr\u001b[39m::discard()\n",
      "\u001b[31m✖\u001b[39m \u001b[34mdplyr\u001b[39m::\u001b[32mfilter()\u001b[39m   masks \u001b[34mstats\u001b[39m::filter()\n",
      "\u001b[31m✖\u001b[39m \u001b[34mrecipes\u001b[39m::\u001b[32mfixed()\u001b[39m  masks \u001b[34mstringr\u001b[39m::fixed()\n",
      "\u001b[31m✖\u001b[39m \u001b[34mdplyr\u001b[39m::\u001b[32mlag()\u001b[39m      masks \u001b[34mstats\u001b[39m::lag()\n",
      "\u001b[31m✖\u001b[39m \u001b[34myardstick\u001b[39m::\u001b[32mspec()\u001b[39m masks \u001b[34mreadr\u001b[39m::spec()\n",
      "\u001b[31m✖\u001b[39m \u001b[34mrecipes\u001b[39m::\u001b[32mstep()\u001b[39m   masks \u001b[34mstats\u001b[39m::step()\n",
      "\n",
      "Registered S3 method overwritten by 'GGally':\n",
      "  method from   \n",
      "  +.gg   ggplot2\n",
      "\n",
      "Warning message:\n",
      "“package ‘cowplot’ was built under R version 4.0.3”\n"
     ]
    }
   ],
   "source": [
    "# Loading package\n",
    "library(tidyverse)\n",
    "library(repr)\n",
    "library(tidymodels)\n",
    "library(GGally)\n",
    "library(cowplot)"
   ]
  },
  {
   "cell_type": "code",
   "execution_count": 2,
   "metadata": {},
   "outputs": [
    {
     "name": "stderr",
     "output_type": "stream",
     "text": [
      "Parsed with column specification:\n",
      "cols(\n",
      "  `fixed acidity` = \u001b[32mcol_double()\u001b[39m,\n",
      "  `volatile acidity` = \u001b[32mcol_double()\u001b[39m,\n",
      "  `citric acid` = \u001b[32mcol_double()\u001b[39m,\n",
      "  `residual sugar` = \u001b[32mcol_double()\u001b[39m,\n",
      "  chlorides = \u001b[32mcol_double()\u001b[39m,\n",
      "  `free sulfur dioxide` = \u001b[32mcol_double()\u001b[39m,\n",
      "  `total sulfur dioxide` = \u001b[32mcol_double()\u001b[39m,\n",
      "  density = \u001b[32mcol_double()\u001b[39m,\n",
      "  pH = \u001b[32mcol_double()\u001b[39m,\n",
      "  sulphates = \u001b[32mcol_double()\u001b[39m,\n",
      "  alcohol = \u001b[32mcol_double()\u001b[39m,\n",
      "  quality = \u001b[32mcol_double()\u001b[39m,\n",
      "  Id = \u001b[32mcol_double()\u001b[39m\n",
      ")\n",
      "\n"
     ]
    },
    {
     "data": {
      "text/html": [
       "<table>\n",
       "<caption>A tibble: 6 × 8</caption>\n",
       "<thead>\n",
       "\t<tr><th scope=col>total.sulfur.dioxide</th><th scope=col>pH</th><th scope=col>alcohol</th><th scope=col>quality</th><th scope=col>residual.sugar</th><th scope=col>chlorides</th><th scope=col>density</th><th scope=col>citric.acid</th></tr>\n",
       "\t<tr><th scope=col>&lt;dbl&gt;</th><th scope=col>&lt;dbl&gt;</th><th scope=col>&lt;dbl&gt;</th><th scope=col>&lt;fct&gt;</th><th scope=col>&lt;dbl&gt;</th><th scope=col>&lt;dbl&gt;</th><th scope=col>&lt;dbl&gt;</th><th scope=col>&lt;dbl&gt;</th></tr>\n",
       "</thead>\n",
       "<tbody>\n",
       "\t<tr><td>34</td><td>3.51</td><td>9.4</td><td>5</td><td>1.9</td><td>0.076</td><td>0.9978</td><td>0.00</td></tr>\n",
       "\t<tr><td>67</td><td>3.20</td><td>9.8</td><td>5</td><td>2.6</td><td>0.098</td><td>0.9968</td><td>0.00</td></tr>\n",
       "\t<tr><td>54</td><td>3.26</td><td>9.8</td><td>5</td><td>2.3</td><td>0.092</td><td>0.9970</td><td>0.04</td></tr>\n",
       "\t<tr><td>60</td><td>3.16</td><td>9.8</td><td>6</td><td>1.9</td><td>0.075</td><td>0.9980</td><td>0.56</td></tr>\n",
       "\t<tr><td>34</td><td>3.51</td><td>9.4</td><td>5</td><td>1.9</td><td>0.076</td><td>0.9978</td><td>0.00</td></tr>\n",
       "\t<tr><td>40</td><td>3.51</td><td>9.4</td><td>5</td><td>1.8</td><td>0.075</td><td>0.9978</td><td>0.00</td></tr>\n",
       "</tbody>\n",
       "</table>\n"
      ],
      "text/latex": [
       "A tibble: 6 × 8\n",
       "\\begin{tabular}{llllllll}\n",
       " total.sulfur.dioxide & pH & alcohol & quality & residual.sugar & chlorides & density & citric.acid\\\\\n",
       " <dbl> & <dbl> & <dbl> & <fct> & <dbl> & <dbl> & <dbl> & <dbl>\\\\\n",
       "\\hline\n",
       "\t 34 & 3.51 & 9.4 & 5 & 1.9 & 0.076 & 0.9978 & 0.00\\\\\n",
       "\t 67 & 3.20 & 9.8 & 5 & 2.6 & 0.098 & 0.9968 & 0.00\\\\\n",
       "\t 54 & 3.26 & 9.8 & 5 & 2.3 & 0.092 & 0.9970 & 0.04\\\\\n",
       "\t 60 & 3.16 & 9.8 & 6 & 1.9 & 0.075 & 0.9980 & 0.56\\\\\n",
       "\t 34 & 3.51 & 9.4 & 5 & 1.9 & 0.076 & 0.9978 & 0.00\\\\\n",
       "\t 40 & 3.51 & 9.4 & 5 & 1.8 & 0.075 & 0.9978 & 0.00\\\\\n",
       "\\end{tabular}\n"
      ],
      "text/markdown": [
       "\n",
       "A tibble: 6 × 8\n",
       "\n",
       "| total.sulfur.dioxide &lt;dbl&gt; | pH &lt;dbl&gt; | alcohol &lt;dbl&gt; | quality &lt;fct&gt; | residual.sugar &lt;dbl&gt; | chlorides &lt;dbl&gt; | density &lt;dbl&gt; | citric.acid &lt;dbl&gt; |\n",
       "|---|---|---|---|---|---|---|---|\n",
       "| 34 | 3.51 | 9.4 | 5 | 1.9 | 0.076 | 0.9978 | 0.00 |\n",
       "| 67 | 3.20 | 9.8 | 5 | 2.6 | 0.098 | 0.9968 | 0.00 |\n",
       "| 54 | 3.26 | 9.8 | 5 | 2.3 | 0.092 | 0.9970 | 0.04 |\n",
       "| 60 | 3.16 | 9.8 | 6 | 1.9 | 0.075 | 0.9980 | 0.56 |\n",
       "| 34 | 3.51 | 9.4 | 5 | 1.9 | 0.076 | 0.9978 | 0.00 |\n",
       "| 40 | 3.51 | 9.4 | 5 | 1.8 | 0.075 | 0.9978 | 0.00 |\n",
       "\n"
      ],
      "text/plain": [
       "  total.sulfur.dioxide pH   alcohol quality residual.sugar chlorides density\n",
       "1 34                   3.51 9.4     5       1.9            0.076     0.9978 \n",
       "2 67                   3.20 9.8     5       2.6            0.098     0.9968 \n",
       "3 54                   3.26 9.8     5       2.3            0.092     0.9970 \n",
       "4 60                   3.16 9.8     6       1.9            0.075     0.9980 \n",
       "5 34                   3.51 9.4     5       1.9            0.076     0.9978 \n",
       "6 40                   3.51 9.4     5       1.8            0.075     0.9978 \n",
       "  citric.acid\n",
       "1 0.00       \n",
       "2 0.00       \n",
       "3 0.04       \n",
       "4 0.56       \n",
       "5 0.00       \n",
       "6 0.00       "
      ]
     },
     "metadata": {},
     "output_type": "display_data"
    }
   ],
   "source": [
    "# Import dataset\n",
    "url <- \"https://raw.githubusercontent.com/SurajDatta/DSCI100_group_project/main/data/WineQT.csv\"\n",
    "wine_data <- read_csv(url)\n",
    "colnames(wine_data) <- make.names(colnames(wine_data))\n",
    "\n",
    "wine_data_clean <- wine_data %>%\n",
    "     select(total.sulfur.dioxide, pH, alcohol, quality, residual.sugar, chlorides, density, citric.acid) %>%\n",
    "     mutate(quality = as_factor(quality))\n",
    "head(wine_data_clean)"
   ]
  },
  {
   "cell_type": "markdown",
   "metadata": {},
   "source": [
    "|Variable             |Explanation                                                                       |\n",
    "|---------------------|----------------------------------------------------------------------------------|\n",
    "|total.sulfur.dioxide |The total amount of sulfur dioxide in wine.                                       |\n",
    "|pH                   |Measure of how acidic/basic wine is.                                              | \n",
    "|alcohol              |The alchohol amount in wine.                                                      |\n",
    "|quality              |The quality of wine.                                                              |\n",
    "|residual.sugar       |The residual sugar in the wine after the sugar fermentation carried out by yeasts.|\n",
    "|chlorides            |The chlorides amount in wine.                                                     |\n",
    "|density              |The density of wine.                                                              |      \n",
    "|citric.acid          |The amount of citric acid in wine.                                                |\n"
   ]
  },
  {
   "cell_type": "markdown",
   "metadata": {},
   "source": [
    "**Table 1: List of Potential Predicors.**\n",
    "\n",
    "This table lists the variables used to assess the quality of the wine as well as a discription for each. Each of these variables have some relationship with the qualit of wine and have potential to predict the bets wine on a given scale."
   ]
  },
  {
   "cell_type": "code",
   "execution_count": 3,
   "metadata": {},
   "outputs": [],
   "source": [
    "# data split\n",
    "wine_split <- initial_split(wine_data_clean, prop = 0.75, strata = quality)\n",
    "wine_train <- training(wine_split)\n",
    "wine_test <- testing(wine_split)"
   ]
  },
  {
   "cell_type": "code",
   "execution_count": 4,
   "metadata": {},
   "outputs": [
    {
     "name": "stderr",
     "output_type": "stream",
     "text": [
      "`stat_bin()` using `bins = 30`. Pick better value with `binwidth`.\n",
      "\n",
      "`stat_bin()` using `bins = 30`. Pick better value with `binwidth`.\n",
      "\n",
      "`stat_bin()` using `bins = 30`. Pick better value with `binwidth`.\n",
      "\n",
      "`stat_bin()` using `bins = 30`. Pick better value with `binwidth`.\n",
      "\n",
      "`stat_bin()` using `bins = 30`. Pick better value with `binwidth`.\n",
      "\n",
      "`stat_bin()` using `bins = 30`. Pick better value with `binwidth`.\n",
      "\n",
      "`stat_bin()` using `bins = 30`. Pick better value with `binwidth`.\n",
      "\n"
     ]
    },
    {
     "data": {
      "image/png": "[encoded data removed]",
      "text/plain": [
       "plot without title"
      ]
     },
     "metadata": {
      "image/png": {
       "height": 420,
       "width": 420
      }
     },
     "output_type": "display_data"
    }
   ],
   "source": [
    "wine_ggpairs <- wine_train %>%\n",
    "   ggpairs\n",
    "wine_ggpairs"
   ]
  },
  {
   "cell_type": "markdown",
   "metadata": {},
   "source": [
    "**GGpair plot**\n",
    "\n",
    "caption: The ggpair plots of seven different data and quality shows that the *residue sugar* and *chlorides* have slightly lower corelation with quality, indicating these two variables are not suitable to be predictors."
   ]
  },
  {
   "cell_type": "markdown",
   "metadata": {},
   "source": [
    "#### The first knn classification model is for single predictors with the predicted quality. WE use for_loop on each predictor to simplify the steps. The results in the table with 3 columns: predictor, best k value, and accuracy."
   ]
  },
  {
   "cell_type": "code",
   "execution_count": 9,
   "metadata": {},
   "outputs": [
    {
     "name": "stdout",
     "output_type": "stream",
     "text": [
      "[1] \"total.sulfur.dioxide\"\n"
     ]
    },
    {
     "name": "stderr",
     "output_type": "stream",
     "text": [
      "\u001b[33m!\u001b[39m \u001b[33mFold3: internal: No observations were detected in `truth` for level(s): '3'\n",
      "Com...\u001b[39m\n",
      "\n",
      "\u001b[33m!\u001b[39m \u001b[33mFold4: internal: No observations were detected in `truth` for level(s): '8'\n",
      "Com...\u001b[39m\n",
      "\n",
      "\u001b[33m!\u001b[39m \u001b[33mFold5: internal: No observations were detected in `truth` for level(s): '3'\n",
      "Com...\u001b[39m\n",
      "\n"
     ]
    },
    {
     "name": "stdout",
     "output_type": "stream",
     "text": [
      "[1] \"pH\"\n"
     ]
    },
    {
     "name": "stderr",
     "output_type": "stream",
     "text": [
      "\u001b[33m!\u001b[39m \u001b[33mFold2: internal: No observations were detected in `truth` for level(s): '3'\n",
      "Com...\u001b[39m\n",
      "\n",
      "\u001b[33m!\u001b[39m \u001b[33mFold3: internal: No observations were detected in `truth` for level(s): '8'\n",
      "Com...\u001b[39m\n",
      "\n",
      "\u001b[33m!\u001b[39m \u001b[33mFold4: internal: No observations were detected in `truth` for level(s): '3'\n",
      "Com...\u001b[39m\n",
      "\n"
     ]
    },
    {
     "name": "stdout",
     "output_type": "stream",
     "text": [
      "[1] \"alcohol\"\n"
     ]
    },
    {
     "name": "stderr",
     "output_type": "stream",
     "text": [
      "\u001b[33m!\u001b[39m \u001b[33mFold2: internal: No observations were detected in `truth` for level(s): '3'\n",
      "Com...\u001b[39m\n",
      "\n",
      "\u001b[33m!\u001b[39m \u001b[33mFold3: internal: No observations were detected in `truth` for level(s): '3'\n",
      "Com...\u001b[39m\n",
      "\n",
      "\u001b[33m!\u001b[39m \u001b[33mFold4: internal: No observations were detected in `truth` for level(s): '3'\n",
      "Com...\u001b[39m\n",
      "\n"
     ]
    },
    {
     "name": "stdout",
     "output_type": "stream",
     "text": [
      "[1] \"residual.sugar\"\n"
     ]
    },
    {
     "name": "stderr",
     "output_type": "stream",
     "text": [
      "\u001b[33m!\u001b[39m \u001b[33mFold2: internal: No observations were detected in `truth` for level(s): '3'\n",
      "Com...\u001b[39m\n",
      "\n",
      "\u001b[33m!\u001b[39m \u001b[33mFold3: internal: No observations were detected in `truth` for level(s): '3'\n",
      "Com...\u001b[39m\n",
      "\n",
      "\u001b[33m!\u001b[39m \u001b[33mFold5: internal: No observations were detected in `truth` for level(s): '3'\n",
      "Com...\u001b[39m\n",
      "\n"
     ]
    },
    {
     "name": "stdout",
     "output_type": "stream",
     "text": [
      "[1] \"chlorides\"\n"
     ]
    },
    {
     "name": "stderr",
     "output_type": "stream",
     "text": [
      "\u001b[33m!\u001b[39m \u001b[33mFold1: internal: No observations were detected in `truth` for level(s): '3'\n",
      "Com...\u001b[39m\n",
      "\n",
      "\u001b[33m!\u001b[39m \u001b[33mFold2: internal: No observations were detected in `truth` for level(s): '3'\n",
      "Com...\u001b[39m\n",
      "\n"
     ]
    },
    {
     "name": "stdout",
     "output_type": "stream",
     "text": [
      "[1] \"density\"\n"
     ]
    },
    {
     "name": "stderr",
     "output_type": "stream",
     "text": [
      "\u001b[33m!\u001b[39m \u001b[33mFold2: internal: No observations were detected in `truth` for level(s): '3'\n",
      "Com...\u001b[39m\n",
      "\n",
      "\u001b[33m!\u001b[39m \u001b[33mFold3: internal: No observations were detected in `truth` for level(s): '8'\n",
      "Com...\u001b[39m\n",
      "\n",
      "\u001b[33m!\u001b[39m \u001b[33mFold5: internal: No observations were detected in `truth` for level(s): '3', '8...\u001b[39m\n",
      "\n"
     ]
    },
    {
     "name": "stdout",
     "output_type": "stream",
     "text": [
      "[1] \"citric.acid\"\n"
     ]
    },
    {
     "name": "stderr",
     "output_type": "stream",
     "text": [
      "\u001b[33m!\u001b[39m \u001b[33mFold2: internal: No observations were detected in `truth` for level(s): '3'\n",
      "Com...\u001b[39m\n",
      "\n",
      "\u001b[33m!\u001b[39m \u001b[33mFold4: internal: No observations were detected in `truth` for level(s): '3'\n",
      "Com...\u001b[39m\n",
      "\n"
     ]
    }
   ],
   "source": [
    "set.seed(1)\n",
    "\n",
    "# Create list of all preditors\n",
    "predictors <- c(\"total.sulfur.dioxide\", \"pH\", \"alcohol\", \"residual.sugar\", \n",
    "                \"chlorides\", \"density\", \"citric.acid\")\n",
    "\n",
    "# Set results dataframe containing rows of single preditors, the best k, and the accuracy.\n",
    "results <- tibble()\n",
    "results <- mutate(results, predictor = \"\", best_k = 0, accuracy = 0)\n",
    "\n",
    "for (pred in predictors) {\n",
    "    \n",
    "    print(pred)\n",
    "    \n",
    "    # Select single predictor for the recipe \n",
    "    train_data <- wine_train %>%\n",
    "       select(quality, all_of(pred))\n",
    "    \n",
    "    train_test <- wine_test %>%\n",
    "       select(quality, all_of(pred))\n",
    "    \n",
    "    \n",
    "    wine_recipe <- recipe(quality ~. , data = wine_train) %>%\n",
    "      step_scale(all_predictors()) %>%\n",
    "      step_center(all_predictors())\n",
    "\n",
    "    knn_tune <- nearest_neighbor(weight_func = \"rectangular\", neighbors = tune()) %>%\n",
    "       set_engine(\"kknn\") %>%\n",
    "       set_mode(\"classification\")\n",
    "\n",
    "     wine_vfold <- vfold_cv(wine_train, v = 5, strata = quality)\n",
    "\n",
    "    gridvals = tibble(neighbors = seq(1, 20))\n",
    "    \n",
    "     knn_results <- workflow() %>%\n",
    "       add_recipe(wine_recipe) %>%\n",
    "       add_model(knn_tune) %>%\n",
    "       tune_grid(resamples = wine_vfold, grid = gridvals) %>%\n",
    "       collect_metrics()\n",
    "\n",
    "\n",
    "      accuracy <- knn_results %>% \n",
    "         filter(.metric == \"accuracy\") %>%\n",
    "         arrange(desc(mean)) %>%\n",
    "         slice(1) %>%\n",
    "         pull(mean)\n",
    "      accuracy\n",
    "\n",
    "      best_k <- knn_results %>% \n",
    "         filter(.metric == \"accuracy\") %>%\n",
    "         arrange(desc(mean)) %>%\n",
    "         slice(1) %>%\n",
    "         pull(neighbors)\n",
    "      best_k\n",
    "    \n",
    "      results <- results %>%\n",
    "         add_row(predictor = pred, best_k = best_k, accuracy = accuracy)\n",
    "}"
   ]
  },
  {
   "cell_type": "code",
   "execution_count": 10,
   "metadata": {},
   "outputs": [
    {
     "data": {
      "text/html": [
       "<table>\n",
       "<caption>A tibble: 7 × 3</caption>\n",
       "<thead>\n",
       "\t<tr><th scope=col>predictor</th><th scope=col>best_k</th><th scope=col>accuracy</th></tr>\n",
       "\t<tr><th scope=col>&lt;chr&gt;</th><th scope=col>&lt;dbl&gt;</th><th scope=col>&lt;dbl&gt;</th></tr>\n",
       "</thead>\n",
       "<tbody>\n",
       "\t<tr><td>total.sulfur.dioxide</td><td>15</td><td>0.5774527</td></tr>\n",
       "\t<tr><td>pH                  </td><td>15</td><td>0.5622751</td></tr>\n",
       "\t<tr><td>citric.acid         </td><td>12</td><td>0.5611247</td></tr>\n",
       "\t<tr><td>chlorides           </td><td>18</td><td>0.5609375</td></tr>\n",
       "\t<tr><td>residual.sugar      </td><td>11</td><td>0.5541208</td></tr>\n",
       "\t<tr><td>density             </td><td>13</td><td>0.5482421</td></tr>\n",
       "\t<tr><td>alcohol             </td><td> 1</td><td>0.5447243</td></tr>\n",
       "</tbody>\n",
       "</table>\n"
      ],
      "text/latex": [
       "A tibble: 7 × 3\n",
       "\\begin{tabular}{lll}\n",
       " predictor & best\\_k & accuracy\\\\\n",
       " <chr> & <dbl> & <dbl>\\\\\n",
       "\\hline\n",
       "\t total.sulfur.dioxide & 15 & 0.5774527\\\\\n",
       "\t pH                   & 15 & 0.5622751\\\\\n",
       "\t citric.acid          & 12 & 0.5611247\\\\\n",
       "\t chlorides            & 18 & 0.5609375\\\\\n",
       "\t residual.sugar       & 11 & 0.5541208\\\\\n",
       "\t density              & 13 & 0.5482421\\\\\n",
       "\t alcohol              &  1 & 0.5447243\\\\\n",
       "\\end{tabular}\n"
      ],
      "text/markdown": [
       "\n",
       "A tibble: 7 × 3\n",
       "\n",
       "| predictor &lt;chr&gt; | best_k &lt;dbl&gt; | accuracy &lt;dbl&gt; |\n",
       "|---|---|---|\n",
       "| total.sulfur.dioxide | 15 | 0.5774527 |\n",
       "| pH                   | 15 | 0.5622751 |\n",
       "| citric.acid          | 12 | 0.5611247 |\n",
       "| chlorides            | 18 | 0.5609375 |\n",
       "| residual.sugar       | 11 | 0.5541208 |\n",
       "| density              | 13 | 0.5482421 |\n",
       "| alcohol              |  1 | 0.5447243 |\n",
       "\n"
      ],
      "text/plain": [
       "  predictor            best_k accuracy \n",
       "1 total.sulfur.dioxide 15     0.5774527\n",
       "2 pH                   15     0.5622751\n",
       "3 citric.acid          12     0.5611247\n",
       "4 chlorides            18     0.5609375\n",
       "5 residual.sugar       11     0.5541208\n",
       "6 density              13     0.5482421\n",
       "7 alcohol               1     0.5447243"
      ]
     },
     "metadata": {},
     "output_type": "display_data"
    }
   ],
   "source": [
    "results %>% arrange(desc(accuracy))"
   ]
  },
  {
   "cell_type": "markdown",
   "metadata": {},
   "source": [
    "#### Table 2: K Predictors and Their Accuracy\n",
    "\n",
    "By performing a knn classification we are able to determine the best number of neighbors that should be used to result in the most accurate prediction. We begin by setting a seed to ensure our work is reproducible. We then randomly split the data into a training and testing set. This allowed us to work with the data set without being biased and compare our results with the real data that was not manipulated. The data was then processed and tuned before undergoing a cross validation. This will give us lower standard data. The data is finally fit and the accuracy is evaluated to give the best number of neighbors.\n"
   ]
  },
  {
   "cell_type": "markdown",
   "metadata": {},
   "source": [
    "#### The second knn classification model is for combined predictors with the predicted quality. WE use for_loop on each combined predictors to simplify the steps. The results in the table with 3 columns: multiple predictors, best k value for multiple predictors, and accuracy for multiple predictors."
   ]
  },
  {
   "cell_type": "code",
   "execution_count": 12,
   "metadata": {},
   "outputs": [
    {
     "name": "stdout",
     "output_type": "stream",
     "text": [
      "[1] \"quality ~ citric.acid + chlorides\"\n"
     ]
    },
    {
     "name": "stderr",
     "output_type": "stream",
     "text": [
      "\u001b[33m!\u001b[39m \u001b[33mFold3: internal: No observations were detected in `truth` for level(s): '3'\n",
      "Com...\u001b[39m\n",
      "\n",
      "\u001b[33m!\u001b[39m \u001b[33mFold4: internal: No observations were detected in `truth` for level(s): '8'\n",
      "Com...\u001b[39m\n",
      "\n",
      "\u001b[33m!\u001b[39m \u001b[33mFold5: internal: No observations were detected in `truth` for level(s): '3'\n",
      "Com...\u001b[39m\n",
      "\n"
     ]
    },
    {
     "name": "stdout",
     "output_type": "stream",
     "text": [
      "[1] \"quality ~ citric.acid + alcohol\"\n"
     ]
    },
    {
     "name": "stderr",
     "output_type": "stream",
     "text": [
      "\u001b[33m!\u001b[39m \u001b[33mFold2: internal: No observations were detected in `truth` for level(s): '3'\n",
      "Com...\u001b[39m\n",
      "\n",
      "\u001b[33m!\u001b[39m \u001b[33mFold3: internal: No observations were detected in `truth` for level(s): '8'\n",
      "Com...\u001b[39m\n",
      "\n",
      "\u001b[33m!\u001b[39m \u001b[33mFold4: internal: No observations were detected in `truth` for level(s): '3'\n",
      "Com...\u001b[39m\n",
      "\n"
     ]
    },
    {
     "name": "stdout",
     "output_type": "stream",
     "text": [
      "[1] \"quality ~ citric.acid + residual.sugar\"\n"
     ]
    },
    {
     "name": "stderr",
     "output_type": "stream",
     "text": [
      "\u001b[33m!\u001b[39m \u001b[33mFold2: internal: No observations were detected in `truth` for level(s): '3'\n",
      "Com...\u001b[39m\n",
      "\n",
      "\u001b[33m!\u001b[39m \u001b[33mFold3: internal: No observations were detected in `truth` for level(s): '3'\n",
      "Com...\u001b[39m\n",
      "\n",
      "\u001b[33m!\u001b[39m \u001b[33mFold4: internal: No observations were detected in `truth` for level(s): '3'\n",
      "Com...\u001b[39m\n",
      "\n"
     ]
    },
    {
     "name": "stdout",
     "output_type": "stream",
     "text": [
      "[1] \"quality ~ citric.acid + chlorides + alcohol\"\n"
     ]
    },
    {
     "name": "stderr",
     "output_type": "stream",
     "text": [
      "\u001b[33m!\u001b[39m \u001b[33mFold2: internal: No observations were detected in `truth` for level(s): '3'\n",
      "Com...\u001b[39m\n",
      "\n",
      "\u001b[33m!\u001b[39m \u001b[33mFold3: internal: No observations were detected in `truth` for level(s): '3'\n",
      "Com...\u001b[39m\n",
      "\n",
      "\u001b[33m!\u001b[39m \u001b[33mFold5: internal: No observations were detected in `truth` for level(s): '3'\n",
      "Com...\u001b[39m\n",
      "\n"
     ]
    },
    {
     "name": "stdout",
     "output_type": "stream",
     "text": [
      "[1] \"quality ~ citric.acid + chlorides + residual.sugar\"\n"
     ]
    },
    {
     "name": "stderr",
     "output_type": "stream",
     "text": [
      "\u001b[33m!\u001b[39m \u001b[33mFold1: internal: No observations were detected in `truth` for level(s): '3'\n",
      "Com...\u001b[39m\n",
      "\n",
      "\u001b[33m!\u001b[39m \u001b[33mFold2: internal: No observations were detected in `truth` for level(s): '3'\n",
      "Com...\u001b[39m\n",
      "\n"
     ]
    }
   ],
   "source": [
    "set.seed(1)\n",
    "# List of formulas that will be used to generate recipes iteratively\n",
    "formulas <- c(\n",
    "\"quality ~ citric.acid + chlorides\",\n",
    "\"quality ~ citric.acid + alcohol\",\n",
    "\"quality ~ citric.acid + residual.sugar\",\n",
    "\"quality ~ citric.acid + chlorides + alcohol\",\n",
    "\"quality ~ citric.acid + chlorides + residual.sugar\")\n",
    "\n",
    "# Setup results data frame with have rows of each predictor and resulting accuracy\n",
    "\n",
    "results_mul <- tibble()\n",
    "results_mul <- mutate(results_mul, predictor_mul = \"\", best_k_mul = 0, accuracy_mul = 0)\n",
    "\n",
    "for (f in formulas) {\n",
    "    \n",
    "    print(f)\n",
    "    \n",
    "    # Convert string formula to formula object\n",
    "    wine_recipe_mul <- recipe(quality ~. , data = wine_train) %>%\n",
    "      step_scale(all_predictors()) %>%\n",
    "      step_center(all_predictors())\n",
    "\n",
    "    knn_spec_mul <- nearest_neighbor(weight_func = \"rectangular\", neighbors = tune()) %>%\n",
    "       set_engine(\"kknn\") %>%\n",
    "       set_mode(\"classification\")\n",
    "\n",
    "    wine_vfold_mul <- vfold_cv(wine_train, v = 5, strata = quality)\n",
    "\n",
    "    gridvals_mul = tibble(neighbors = seq(1, 20))\n",
    "    \n",
    "    knn_results_mul <- workflow() %>%\n",
    "       add_recipe(wine_recipe_mul) %>%\n",
    "       add_model(knn_spec_mul) %>%\n",
    "       tune_grid(resamples = wine_vfold_mul, grid = gridvals_mul) %>%\n",
    "       collect_metrics() %>% \n",
    "         filter(.metric == \"accuracy\") %>%\n",
    "         arrange(desc(mean)) %>%\n",
    "         slice(1) \n",
    "\n",
    "    accuracy_mul <- knn_results_mul %>%\n",
    "         pull(mean) \n",
    "    accuracy_mul\n",
    "\n",
    "    best_k_mul <- knn_results_mul %>%\n",
    "         pull(neighbors)\n",
    "    best_k_mul\n",
    "    \n",
    "    results_mul <- results_mul %>%\n",
    "         add_row(predictor_mul = f, best_k_mul = best_k_mul, accuracy_mul = accuracy_mul)\n",
    "}"
   ]
  },
  {
   "cell_type": "code",
   "execution_count": 16,
   "metadata": {},
   "outputs": [
    {
     "data": {
      "text/html": [
       "<table>\n",
       "<caption>A tibble: 5 × 3</caption>\n",
       "<thead>\n",
       "\t<tr><th scope=col>predictor_mul</th><th scope=col>best_k_mul</th><th scope=col>accuracy_mul</th></tr>\n",
       "\t<tr><th scope=col>&lt;chr&gt;</th><th scope=col>&lt;dbl&gt;</th><th scope=col>&lt;dbl&gt;</th></tr>\n",
       "</thead>\n",
       "<tbody>\n",
       "\t<tr><td>quality ~ citric.acid + chlorides                 </td><td>15</td><td>0.5774527</td></tr>\n",
       "\t<tr><td>quality ~ citric.acid + alcohol                   </td><td>15</td><td>0.5622751</td></tr>\n",
       "\t<tr><td>quality ~ citric.acid + chlorides + residual.sugar</td><td>18</td><td>0.5609375</td></tr>\n",
       "\t<tr><td>quality ~ citric.acid + chlorides + alcohol       </td><td>11</td><td>0.5541208</td></tr>\n",
       "\t<tr><td>quality ~ citric.acid + residual.sugar            </td><td> 1</td><td>0.5447243</td></tr>\n",
       "</tbody>\n",
       "</table>\n"
      ],
      "text/latex": [
       "A tibble: 5 × 3\n",
       "\\begin{tabular}{lll}\n",
       " predictor\\_mul & best\\_k\\_mul & accuracy\\_mul\\\\\n",
       " <chr> & <dbl> & <dbl>\\\\\n",
       "\\hline\n",
       "\t quality \\textasciitilde{} citric.acid + chlorides                  & 15 & 0.5774527\\\\\n",
       "\t quality \\textasciitilde{} citric.acid + alcohol                    & 15 & 0.5622751\\\\\n",
       "\t quality \\textasciitilde{} citric.acid + chlorides + residual.sugar & 18 & 0.5609375\\\\\n",
       "\t quality \\textasciitilde{} citric.acid + chlorides + alcohol        & 11 & 0.5541208\\\\\n",
       "\t quality \\textasciitilde{} citric.acid + residual.sugar             &  1 & 0.5447243\\\\\n",
       "\\end{tabular}\n"
      ],
      "text/markdown": [
       "\n",
       "A tibble: 5 × 3\n",
       "\n",
       "| predictor_mul &lt;chr&gt; | best_k_mul &lt;dbl&gt; | accuracy_mul &lt;dbl&gt; |\n",
       "|---|---|---|\n",
       "| quality ~ citric.acid + chlorides                  | 15 | 0.5774527 |\n",
       "| quality ~ citric.acid + alcohol                    | 15 | 0.5622751 |\n",
       "| quality ~ citric.acid + chlorides + residual.sugar | 18 | 0.5609375 |\n",
       "| quality ~ citric.acid + chlorides + alcohol        | 11 | 0.5541208 |\n",
       "| quality ~ citric.acid + residual.sugar             |  1 | 0.5447243 |\n",
       "\n"
      ],
      "text/plain": [
       "  predictor_mul                                      best_k_mul accuracy_mul\n",
       "1 quality ~ citric.acid + chlorides                  15         0.5774527   \n",
       "2 quality ~ citric.acid + alcohol                    15         0.5622751   \n",
       "3 quality ~ citric.acid + chlorides + residual.sugar 18         0.5609375   \n",
       "4 quality ~ citric.acid + chlorides + alcohol        11         0.5541208   \n",
       "5 quality ~ citric.acid + residual.sugar              1         0.5447243   "
      ]
     },
     "metadata": {},
     "output_type": "display_data"
    },
    {
     "data": {
      "text/html": [
       "<table>\n",
       "<caption>A tibble: 1 × 3</caption>\n",
       "<thead>\n",
       "\t<tr><th scope=col>predictor_mul</th><th scope=col>best_k_mul</th><th scope=col>accuracy_mul</th></tr>\n",
       "\t<tr><th scope=col>&lt;chr&gt;</th><th scope=col>&lt;dbl&gt;</th><th scope=col>&lt;dbl&gt;</th></tr>\n",
       "</thead>\n",
       "<tbody>\n",
       "\t<tr><td>quality ~ citric.acid + chlorides</td><td>15</td><td>0.5774527</td></tr>\n",
       "</tbody>\n",
       "</table>\n"
      ],
      "text/latex": [
       "A tibble: 1 × 3\n",
       "\\begin{tabular}{lll}\n",
       " predictor\\_mul & best\\_k\\_mul & accuracy\\_mul\\\\\n",
       " <chr> & <dbl> & <dbl>\\\\\n",
       "\\hline\n",
       "\t quality \\textasciitilde{} citric.acid + chlorides & 15 & 0.5774527\\\\\n",
       "\\end{tabular}\n"
      ],
      "text/markdown": [
       "\n",
       "A tibble: 1 × 3\n",
       "\n",
       "| predictor_mul &lt;chr&gt; | best_k_mul &lt;dbl&gt; | accuracy_mul &lt;dbl&gt; |\n",
       "|---|---|---|\n",
       "| quality ~ citric.acid + chlorides | 15 | 0.5774527 |\n",
       "\n"
      ],
      "text/plain": [
       "  predictor_mul                     best_k_mul accuracy_mul\n",
       "1 quality ~ citric.acid + chlorides 15         0.5774527   "
      ]
     },
     "metadata": {},
     "output_type": "display_data"
    }
   ],
   "source": [
    "results_mul <- results_mul %>%\n",
    "    arrange(desc(accuracy_mul))\n",
    "results_mul\n",
    "best_pred_mul <- results_mul %>%\n",
    "  slice(1)\n",
    "best_pred_mul"
   ]
  },
  {
   "cell_type": "markdown",
   "metadata": {},
   "source": [
    "#### Table of accuracies of combined predictors"
   ]
  },
  {
   "cell_type": "code",
   "execution_count": 18,
   "metadata": {},
   "outputs": [
    {
     "name": "stderr",
     "output_type": "stream",
     "text": [
      "\u001b[33m!\u001b[39m \u001b[33mFold2: internal: No observations were detected in `truth` for level(s): '3'\n",
      "Com...\u001b[39m\n",
      "\n",
      "\u001b[33m!\u001b[39m \u001b[33mFold4: internal: No observations were detected in `truth` for level(s): '3'\n",
      "Com...\u001b[39m\n",
      "\n"
     ]
    },
    {
     "data": {
      "text/html": [
       "<table>\n",
       "<caption>A tibble: 20 × 7</caption>\n",
       "<thead>\n",
       "\t<tr><th scope=col>neighbors</th><th scope=col>.metric</th><th scope=col>.estimator</th><th scope=col>mean</th><th scope=col>n</th><th scope=col>std_err</th><th scope=col>.config</th></tr>\n",
       "\t<tr><th scope=col>&lt;int&gt;</th><th scope=col>&lt;chr&gt;</th><th scope=col>&lt;chr&gt;</th><th scope=col>&lt;dbl&gt;</th><th scope=col>&lt;int&gt;</th><th scope=col>&lt;dbl&gt;</th><th scope=col>&lt;chr&gt;</th></tr>\n",
       "</thead>\n",
       "<tbody>\n",
       "\t<tr><td>11</td><td>accuracy</td><td>multiclass</td><td>0.4726710</td><td>5</td><td>0.009263677</td><td>Model11</td></tr>\n",
       "\t<tr><td>20</td><td>accuracy</td><td>multiclass</td><td>0.4668163</td><td>5</td><td>0.015914840</td><td>Model20</td></tr>\n",
       "\t<tr><td>12</td><td>accuracy</td><td>multiclass</td><td>0.4668027</td><td>5</td><td>0.004518519</td><td>Model12</td></tr>\n",
       "\t<tr><td>18</td><td>accuracy</td><td>multiclass</td><td>0.4645315</td><td>5</td><td>0.015717433</td><td>Model18</td></tr>\n",
       "\t<tr><td>10</td><td>accuracy</td><td>multiclass</td><td>0.4645111</td><td>5</td><td>0.009472811</td><td>Model10</td></tr>\n",
       "\t<tr><td>19</td><td>accuracy</td><td>multiclass</td><td>0.4610295</td><td>5</td><td>0.019048013</td><td>Model19</td></tr>\n",
       "\t<tr><td>13</td><td>accuracy</td><td>multiclass</td><td>0.4610227</td><td>5</td><td>0.006586640</td><td>Model13</td></tr>\n",
       "\t<tr><td>17</td><td>accuracy</td><td>multiclass</td><td>0.4610227</td><td>5</td><td>0.006051728</td><td>Model17</td></tr>\n",
       "\t<tr><td> 8</td><td>accuracy</td><td>multiclass</td><td>0.4598735</td><td>5</td><td>0.009650578</td><td>Model08</td></tr>\n",
       "\t<tr><td>15</td><td>accuracy</td><td>multiclass</td><td>0.4552292</td><td>5</td><td>0.017526823</td><td>Model15</td></tr>\n",
       "\t<tr><td>16</td><td>accuracy</td><td>multiclass</td><td>0.4540188</td><td>5</td><td>0.010574881</td><td>Model16</td></tr>\n",
       "\t<tr><td> 9</td><td>accuracy</td><td>multiclass</td><td>0.4493812</td><td>5</td><td>0.008968858</td><td>Model09</td></tr>\n",
       "\t<tr><td>14</td><td>accuracy</td><td>multiclass</td><td>0.4470488</td><td>5</td><td>0.009641657</td><td>Model14</td></tr>\n",
       "\t<tr><td> 5</td><td>accuracy</td><td>multiclass</td><td>0.4389433</td><td>5</td><td>0.019964907</td><td>Model05</td></tr>\n",
       "\t<tr><td> 7</td><td>accuracy</td><td>multiclass</td><td>0.4388957</td><td>5</td><td>0.010625638</td><td>Model07</td></tr>\n",
       "\t<tr><td> 6</td><td>accuracy</td><td>multiclass</td><td>0.4354209</td><td>5</td><td>0.016792739</td><td>Model06</td></tr>\n",
       "\t<tr><td> 4</td><td>accuracy</td><td>multiclass</td><td>0.4284170</td><td>5</td><td>0.008075115</td><td>Model04</td></tr>\n",
       "\t<tr><td> 1</td><td>accuracy</td><td>multiclass</td><td>0.4168027</td><td>5</td><td>0.013144253</td><td>Model01</td></tr>\n",
       "\t<tr><td> 2</td><td>accuracy</td><td>multiclass</td><td>0.4167891</td><td>5</td><td>0.012079623</td><td>Model02</td></tr>\n",
       "\t<tr><td> 3</td><td>accuracy</td><td>multiclass</td><td>0.4109547</td><td>5</td><td>0.015949783</td><td>Model03</td></tr>\n",
       "</tbody>\n",
       "</table>\n"
      ],
      "text/latex": [
       "A tibble: 20 × 7\n",
       "\\begin{tabular}{lllllll}\n",
       " neighbors & .metric & .estimator & mean & n & std\\_err & .config\\\\\n",
       " <int> & <chr> & <chr> & <dbl> & <int> & <dbl> & <chr>\\\\\n",
       "\\hline\n",
       "\t 11 & accuracy & multiclass & 0.4726710 & 5 & 0.009263677 & Model11\\\\\n",
       "\t 20 & accuracy & multiclass & 0.4668163 & 5 & 0.015914840 & Model20\\\\\n",
       "\t 12 & accuracy & multiclass & 0.4668027 & 5 & 0.004518519 & Model12\\\\\n",
       "\t 18 & accuracy & multiclass & 0.4645315 & 5 & 0.015717433 & Model18\\\\\n",
       "\t 10 & accuracy & multiclass & 0.4645111 & 5 & 0.009472811 & Model10\\\\\n",
       "\t 19 & accuracy & multiclass & 0.4610295 & 5 & 0.019048013 & Model19\\\\\n",
       "\t 13 & accuracy & multiclass & 0.4610227 & 5 & 0.006586640 & Model13\\\\\n",
       "\t 17 & accuracy & multiclass & 0.4610227 & 5 & 0.006051728 & Model17\\\\\n",
       "\t  8 & accuracy & multiclass & 0.4598735 & 5 & 0.009650578 & Model08\\\\\n",
       "\t 15 & accuracy & multiclass & 0.4552292 & 5 & 0.017526823 & Model15\\\\\n",
       "\t 16 & accuracy & multiclass & 0.4540188 & 5 & 0.010574881 & Model16\\\\\n",
       "\t  9 & accuracy & multiclass & 0.4493812 & 5 & 0.008968858 & Model09\\\\\n",
       "\t 14 & accuracy & multiclass & 0.4470488 & 5 & 0.009641657 & Model14\\\\\n",
       "\t  5 & accuracy & multiclass & 0.4389433 & 5 & 0.019964907 & Model05\\\\\n",
       "\t  7 & accuracy & multiclass & 0.4388957 & 5 & 0.010625638 & Model07\\\\\n",
       "\t  6 & accuracy & multiclass & 0.4354209 & 5 & 0.016792739 & Model06\\\\\n",
       "\t  4 & accuracy & multiclass & 0.4284170 & 5 & 0.008075115 & Model04\\\\\n",
       "\t  1 & accuracy & multiclass & 0.4168027 & 5 & 0.013144253 & Model01\\\\\n",
       "\t  2 & accuracy & multiclass & 0.4167891 & 5 & 0.012079623 & Model02\\\\\n",
       "\t  3 & accuracy & multiclass & 0.4109547 & 5 & 0.015949783 & Model03\\\\\n",
       "\\end{tabular}\n"
      ],
      "text/markdown": [
       "\n",
       "A tibble: 20 × 7\n",
       "\n",
       "| neighbors &lt;int&gt; | .metric &lt;chr&gt; | .estimator &lt;chr&gt; | mean &lt;dbl&gt; | n &lt;int&gt; | std_err &lt;dbl&gt; | .config &lt;chr&gt; |\n",
       "|---|---|---|---|---|---|---|\n",
       "| 11 | accuracy | multiclass | 0.4726710 | 5 | 0.009263677 | Model11 |\n",
       "| 20 | accuracy | multiclass | 0.4668163 | 5 | 0.015914840 | Model20 |\n",
       "| 12 | accuracy | multiclass | 0.4668027 | 5 | 0.004518519 | Model12 |\n",
       "| 18 | accuracy | multiclass | 0.4645315 | 5 | 0.015717433 | Model18 |\n",
       "| 10 | accuracy | multiclass | 0.4645111 | 5 | 0.009472811 | Model10 |\n",
       "| 19 | accuracy | multiclass | 0.4610295 | 5 | 0.019048013 | Model19 |\n",
       "| 13 | accuracy | multiclass | 0.4610227 | 5 | 0.006586640 | Model13 |\n",
       "| 17 | accuracy | multiclass | 0.4610227 | 5 | 0.006051728 | Model17 |\n",
       "|  8 | accuracy | multiclass | 0.4598735 | 5 | 0.009650578 | Model08 |\n",
       "| 15 | accuracy | multiclass | 0.4552292 | 5 | 0.017526823 | Model15 |\n",
       "| 16 | accuracy | multiclass | 0.4540188 | 5 | 0.010574881 | Model16 |\n",
       "|  9 | accuracy | multiclass | 0.4493812 | 5 | 0.008968858 | Model09 |\n",
       "| 14 | accuracy | multiclass | 0.4470488 | 5 | 0.009641657 | Model14 |\n",
       "|  5 | accuracy | multiclass | 0.4389433 | 5 | 0.019964907 | Model05 |\n",
       "|  7 | accuracy | multiclass | 0.4388957 | 5 | 0.010625638 | Model07 |\n",
       "|  6 | accuracy | multiclass | 0.4354209 | 5 | 0.016792739 | Model06 |\n",
       "|  4 | accuracy | multiclass | 0.4284170 | 5 | 0.008075115 | Model04 |\n",
       "|  1 | accuracy | multiclass | 0.4168027 | 5 | 0.013144253 | Model01 |\n",
       "|  2 | accuracy | multiclass | 0.4167891 | 5 | 0.012079623 | Model02 |\n",
       "|  3 | accuracy | multiclass | 0.4109547 | 5 | 0.015949783 | Model03 |\n",
       "\n"
      ],
      "text/plain": [
       "   neighbors .metric  .estimator mean      n std_err     .config\n",
       "1  11        accuracy multiclass 0.4726710 5 0.009263677 Model11\n",
       "2  20        accuracy multiclass 0.4668163 5 0.015914840 Model20\n",
       "3  12        accuracy multiclass 0.4668027 5 0.004518519 Model12\n",
       "4  18        accuracy multiclass 0.4645315 5 0.015717433 Model18\n",
       "5  10        accuracy multiclass 0.4645111 5 0.009472811 Model10\n",
       "6  19        accuracy multiclass 0.4610295 5 0.019048013 Model19\n",
       "7  13        accuracy multiclass 0.4610227 5 0.006586640 Model13\n",
       "8  17        accuracy multiclass 0.4610227 5 0.006051728 Model17\n",
       "9   8        accuracy multiclass 0.4598735 5 0.009650578 Model08\n",
       "10 15        accuracy multiclass 0.4552292 5 0.017526823 Model15\n",
       "11 16        accuracy multiclass 0.4540188 5 0.010574881 Model16\n",
       "12  9        accuracy multiclass 0.4493812 5 0.008968858 Model09\n",
       "13 14        accuracy multiclass 0.4470488 5 0.009641657 Model14\n",
       "14  5        accuracy multiclass 0.4389433 5 0.019964907 Model05\n",
       "15  7        accuracy multiclass 0.4388957 5 0.010625638 Model07\n",
       "16  6        accuracy multiclass 0.4354209 5 0.016792739 Model06\n",
       "17  4        accuracy multiclass 0.4284170 5 0.008075115 Model04\n",
       "18  1        accuracy multiclass 0.4168027 5 0.013144253 Model01\n",
       "19  2        accuracy multiclass 0.4167891 5 0.012079623 Model02\n",
       "20  3        accuracy multiclass 0.4109547 5 0.015949783 Model03"
      ]
     },
     "metadata": {},
     "output_type": "display_data"
    }
   ],
   "source": [
    "wine_recipe <- recipe(quality ~ total.sulfur.dioxide , data = wine_train) %>%\n",
    "      step_scale(all_predictors()) %>%\n",
    "      step_center(all_predictors())\n",
    "\n",
    "knn_tune <- nearest_neighbor(weight_func = \"rectangular\", neighbors = tune()) %>%\n",
    "       set_engine(\"kknn\") %>%\n",
    "       set_mode(\"classification\")\n",
    "\n",
    "wine_vfold <- vfold_cv(wine_train, v = 5, strata = quality)\n",
    "\n",
    "gridvals = tibble(neighbors = seq(1, 20))\n",
    "    \n",
    "knn_results <- workflow() %>%\n",
    "       add_recipe(wine_recipe) %>%\n",
    "       add_model(knn_tune) %>%\n",
    "       tune_grid(resamples = wine_vfold, grid = gridvals) %>%\n",
    "       collect_metrics()\n",
    "accuracy <- knn_results %>% \n",
    "        filter(.metric == \"accuracy\") %>%\n",
    "        arrange(desc(mean))\n",
    "accuracy\n"
   ]
  },
  {
   "cell_type": "code",
   "execution_count": 22,
   "metadata": {},
   "outputs": [
    {
     "data": {
      "image/png": "[encoded data removed]",
      "text/plain": [
       "plot without title"
      ]
     },
     "metadata": {
      "image/png": {
       "height": 420,
       "width": 420
      }
     },
     "output_type": "display_data"
    }
   ],
   "source": [
    "accuracy_vs_k <- ggplot(accuracy, aes(x = neighbors, y = mean))+\n",
    "       geom_point() +\n",
    "       geom_line() +\n",
    "       labs(x = \"Neighbors\", y = \"Accuracy Estimate\") +\n",
    "    scale_x_continuous(breaks = seq(0, 20, by = 1))\n",
    "accuracy_vs_k"
   ]
  },
  {
   "cell_type": "markdown",
   "metadata": {},
   "source": [
    "### Discussion"
   ]
  },
  {
   "cell_type": "markdown",
   "metadata": {},
   "source": [
    "### References\n",
    "\n",
    "- Cortez, P., Cerdeira, A., Almeida, F., Matos, T., & Reis, J. (2009). Modeling wine preferences by data mining from physicochemical properties. Decision Support Systems, 47(4), 547–553. https://doi.org/10.1016/j.dss.2009.05.016\n",
    "\n",
    "- Wine Quality Dataset. (2022, January 15). Kaggle. https://www.kaggle.com/datasets/yasserh/wine-quality-dataset"
   ]
  },
  {
   "cell_type": "code",
   "execution_count": null,
   "metadata": {},
   "outputs": [],
   "source": []
  }
 ],
 "metadata": {
  "kernelspec": {
   "display_name": "R",
   "language": "R",
   "name": "ir"
  },
  "language_info": {
   "codemirror_mode": "r",
   "file_extension": ".r",
   "mimetype": "text/x-r-source",
   "name": "R",
   "pygments_lexer": "r",
   "version": "4.0.0"
  }
 },
 "nbformat": 4,
 "nbformat_minor": 4
}
