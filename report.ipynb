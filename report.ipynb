{
 "cells": [
  {
   "cell_type": "code",
   "execution_count": null,
   "metadata": {},
   "outputs": [],
   "source": [
    "# Loading package\n",
    "library(tidyverse)\n",
    "library(repr)\n",
    "library(tidymodels)\n",
    "library(cowplot)"
   ]
  },
  {
   "cell_type": "code",
   "execution_count": null,
   "metadata": {},
   "outputs": [],
   "source": [
    "# Import dataset\n",
    "url <- \"https://raw.githubusercontent.com/SurajDatta/DSCI100_group_project/main/data/WineQT.csv\"\n",
    "wine_data <- read_csv(url)\n",
    "colnames(wine_data) <- make.names(colnames(wine_data))\n",
    "\n",
    "wine_data_clean <- wine_data %>%\n",
    "     select(total.sulfur.dioxide, pH, alcohol, quality, residual.sugar, chlorides, density, citric.acid) %>%\n",
    "     mutate(quality = as_factor(quality))\n",
    "head(wine_data_clean)"
   ]
  },
  {
   "cell_type": "code",
   "execution_count": null,
   "metadata": {},
   "outputs": [],
   "source": [
    "# data split\n",
    "wine_split <- initial_split(wine_data_clean, prop = 0.75, strata = quality)\n",
    "wine_train <- training(wine_split)\n",
    "wine_test <- testing(wine_split)"
   ]
  },
  {
   "cell_type": "code",
   "execution_count": null,
   "metadata": {},
   "outputs": [],
   "source": [
    "set.seed(1)\n",
    "\n",
    "# Create list of all preditors\n",
    "predictors <- c(\"total.sulfur.dioxide\", \"pH\", \"alcohol\", \"quality\", \n",
    "                \"residual.sugar\", \"chlorides\", \"density\", \"citric.acid\")\n",
    "\n",
    "# Set results dataframe containing rows of single preditors, the best k, and the accuracy.\n",
    "results <- tibble()\n",
    "results <- mutate(results, predictor = \"\", best_k = 0, accuracy = 0)\n",
    "\n",
    "for (pred in predictors) {\n",
    "    \n",
    "    print(pred)\n",
    "    \n",
    "    # Select single predictor for the recipe \n",
    "    train_data <- wine_train %>%\n",
    "       select(quality, all_of(pred))\n",
    "    \n",
    "    train_test <- wine_test %>%\n",
    "       select(quality, all_of(pred))\n",
    "    \n",
    "    \n",
    "    wine_recipe <- recipe(quality ~. , data = wine_train) %>%\n",
    "      step_scale(all_predictors()) %>%\n",
    "      step_center(all_predictors())\n",
    "\n",
    "    knn_tune <- nearest_neighbor(weight_func = \"rectangular\", neighbors = tune()) %>%\n",
    "       set_engine(\"kknn\") %>%\n",
    "       set_mode(\"classification\")\n",
    "\n",
    "     wine_vfold <- vfold_cv(wine_train, v = 5, strata = quality)\n",
    "\n",
    "    gridvals = tibble(neighbors = seq(1, 100))\n",
    "    \n",
    "     knn_results <- workflow() %>%\n",
    "       add_recipe(wine_recipe) %>%\n",
    "       add_model(knn_tune) %>%\n",
    "       tune_grid(resamples = wine_vfold, grid = gridvals) %>%\n",
    "       collect_metrics()\n",
    "\n",
    "\n",
    "      accuracy <- knn_results %>% \n",
    "         filter(.metric == \"accuracy\") %>%\n",
    "         arrange(mean) %>%\n",
    "         slice(1) %>%\n",
    "         pull(mean)\n",
    "      accuracy\n",
    "\n",
    "      best_k <- knn_results %>% \n",
    "         filter(.metric == \"accuracy\") %>%\n",
    "         arrange(mean) %>%\n",
    "         slice(1) %>%\n",
    "         pull(neighbors)\n",
    "      best_k\n",
    "    \n",
    "      results <- results %>%\n",
    "         add_row(predictor = pred, best_k = best_k, accuracy = accuracy)\n",
    "}"
   ]
  },
  {
   "cell_type": "code",
   "execution_count": null,
   "metadata": {},
   "outputs": [],
   "source": [
    "results %>% arrange(accuracy)"
   ]
  },
  {
   "cell_type": "code",
   "execution_count": null,
   "metadata": {},
   "outputs": [],
   "source": []
  }
 ],
 "metadata": {
  "kernelspec": {
   "display_name": "R",
   "language": "R",
   "name": "ir"
  },
  "language_info": {
   "codemirror_mode": "r",
   "file_extension": ".r",
   "mimetype": "text/x-r-source",
   "name": "R",
   "pygments_lexer": "r",
   "version": "4.0.0"
  }
 },
 "nbformat": 4,
 "nbformat_minor": 4
}
