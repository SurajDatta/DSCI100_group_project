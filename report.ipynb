{
 "cells": [
  {
   "cell_type": "markdown",
   "metadata": {},
   "source": [
    "### Title: Making Prediction of Wine Quality"
   ]
  },
  {
   "cell_type": "markdown",
   "metadata": {},
   "source": [
    "### Introduction\n",
    "\n",
    "For our group project we will be predicting the quality of different wine samples given different character traits of the wine. When wine is being processed for production and storage, it undergoes an oxidation reaction and loses some of its fruit aromas. However, this can be prevented buy adding preservatives such as sulpher dioxide. This acts as an antiseptic which prevents the prominent flavours from being lost over time and helps preserve the quality of the drink. In our study we will be asking if the quality of different wines, such as red vs white, can be predicted based on differnent factors. The factors we will be investigating include pH level, alcohol (vol%), residual sugar (g/dm^3), chlorides (g(sodium chloride)/dm3), density (g/cm^3), and citric acid (g/dm3). The quality will be determined using a 10 point scale. Current research on this topic that insipred this study comes from the article \"Modeling wine preferences by data mining from physicochemical properties\". The following study can be found here: https://www.sciencedirect.com/science/article/pii/S0167923609001377?via=ihub The dataset we will be using is https://www.kaggle.com/yasserh/wine-quality-dataset. The dataset has been made tidy for better comprehension and is included below."
   ]
  },
  {
   "cell_type": "markdown",
   "metadata": {},
   "source": [
    "\n",
    "### Method and Results\n",
    "\n",
    "We will be conducting our data analysis by tidying a dataset, and creating visualizations to predict the quality of wine using factors such as the total.sulfur.dioxide, pH, alcohol, residual.sugar, chlorides, density, and citric.acid. While some variables have a linear relationship with quality, some not so much. But, they can be used to predict the quality after we train our model with the training data. Some future questions this could lead to include the questioning which features that together create a prefered taste and how preservatives influcence the quality of of wine with time. However, there are variables such as Chlorides and residual sugar which dont have much difference in the mean, hence would eventially have to be swapped with other variables. The plots related to all variables vs quality show how each of them differes as the quality of the wine increases. Some decrease, some increase, but through these differences we should be able to see some amazing predictions (and some even surprising ones) regarding the quality of a wine. We first planned on doing a scatter plot and a box plot, but since quality is distinct, we did a crossover and decided to overlay scatter plot over each individual box plot for each quality. This is because we could recognize the distribution between quality and the variables in y axis. We then scaled all the data and centered it so the uneveness in the data is minimized and we could properly analyze the centralized data. However, even after being scaled there doesnt seem to be much difference btween actual plot and scaled plot. "
   ]
  },
  {
   "cell_type": "code",
   "execution_count": 10,
   "metadata": {},
   "outputs": [],
   "source": [
    "# Loading package\n",
    "library(tidyverse)\n",
    "library(repr)\n",
    "library(tidymodels)\n",
    "library(GGally)\n",
    "library(cowplot)"
   ]
  },
  {
   "cell_type": "code",
   "execution_count": 11,
   "metadata": {},
   "outputs": [
    {
     "name": "stderr",
     "output_type": "stream",
     "text": [
      "Parsed with column specification:\n",
      "cols(\n",
      "  `fixed acidity` = \u001b[32mcol_double()\u001b[39m,\n",
      "  `volatile acidity` = \u001b[32mcol_double()\u001b[39m,\n",
      "  `citric acid` = \u001b[32mcol_double()\u001b[39m,\n",
      "  `residual sugar` = \u001b[32mcol_double()\u001b[39m,\n",
      "  chlorides = \u001b[32mcol_double()\u001b[39m,\n",
      "  `free sulfur dioxide` = \u001b[32mcol_double()\u001b[39m,\n",
      "  `total sulfur dioxide` = \u001b[32mcol_double()\u001b[39m,\n",
      "  density = \u001b[32mcol_double()\u001b[39m,\n",
      "  pH = \u001b[32mcol_double()\u001b[39m,\n",
      "  sulphates = \u001b[32mcol_double()\u001b[39m,\n",
      "  alcohol = \u001b[32mcol_double()\u001b[39m,\n",
      "  quality = \u001b[32mcol_double()\u001b[39m,\n",
      "  Id = \u001b[32mcol_double()\u001b[39m\n",
      ")\n",
      "\n"
     ]
    },
    {
     "data": {
      "text/html": [
       "<table>\n",
       "<caption>A tibble: 6 × 8</caption>\n",
       "<thead>\n",
       "\t<tr><th scope=col>total.sulfur.dioxide</th><th scope=col>pH</th><th scope=col>alcohol</th><th scope=col>quality</th><th scope=col>residual.sugar</th><th scope=col>chlorides</th><th scope=col>density</th><th scope=col>citric.acid</th></tr>\n",
       "\t<tr><th scope=col>&lt;dbl&gt;</th><th scope=col>&lt;dbl&gt;</th><th scope=col>&lt;dbl&gt;</th><th scope=col>&lt;fct&gt;</th><th scope=col>&lt;dbl&gt;</th><th scope=col>&lt;dbl&gt;</th><th scope=col>&lt;dbl&gt;</th><th scope=col>&lt;dbl&gt;</th></tr>\n",
       "</thead>\n",
       "<tbody>\n",
       "\t<tr><td>34</td><td>3.51</td><td>9.4</td><td>5</td><td>1.9</td><td>0.076</td><td>0.9978</td><td>0.00</td></tr>\n",
       "\t<tr><td>67</td><td>3.20</td><td>9.8</td><td>5</td><td>2.6</td><td>0.098</td><td>0.9968</td><td>0.00</td></tr>\n",
       "\t<tr><td>54</td><td>3.26</td><td>9.8</td><td>5</td><td>2.3</td><td>0.092</td><td>0.9970</td><td>0.04</td></tr>\n",
       "\t<tr><td>60</td><td>3.16</td><td>9.8</td><td>6</td><td>1.9</td><td>0.075</td><td>0.9980</td><td>0.56</td></tr>\n",
       "\t<tr><td>34</td><td>3.51</td><td>9.4</td><td>5</td><td>1.9</td><td>0.076</td><td>0.9978</td><td>0.00</td></tr>\n",
       "\t<tr><td>40</td><td>3.51</td><td>9.4</td><td>5</td><td>1.8</td><td>0.075</td><td>0.9978</td><td>0.00</td></tr>\n",
       "</tbody>\n",
       "</table>\n"
      ],
      "text/latex": [
       "A tibble: 6 × 8\n",
       "\\begin{tabular}{llllllll}\n",
       " total.sulfur.dioxide & pH & alcohol & quality & residual.sugar & chlorides & density & citric.acid\\\\\n",
       " <dbl> & <dbl> & <dbl> & <fct> & <dbl> & <dbl> & <dbl> & <dbl>\\\\\n",
       "\\hline\n",
       "\t 34 & 3.51 & 9.4 & 5 & 1.9 & 0.076 & 0.9978 & 0.00\\\\\n",
       "\t 67 & 3.20 & 9.8 & 5 & 2.6 & 0.098 & 0.9968 & 0.00\\\\\n",
       "\t 54 & 3.26 & 9.8 & 5 & 2.3 & 0.092 & 0.9970 & 0.04\\\\\n",
       "\t 60 & 3.16 & 9.8 & 6 & 1.9 & 0.075 & 0.9980 & 0.56\\\\\n",
       "\t 34 & 3.51 & 9.4 & 5 & 1.9 & 0.076 & 0.9978 & 0.00\\\\\n",
       "\t 40 & 3.51 & 9.4 & 5 & 1.8 & 0.075 & 0.9978 & 0.00\\\\\n",
       "\\end{tabular}\n"
      ],
      "text/markdown": [
       "\n",
       "A tibble: 6 × 8\n",
       "\n",
       "| total.sulfur.dioxide &lt;dbl&gt; | pH &lt;dbl&gt; | alcohol &lt;dbl&gt; | quality &lt;fct&gt; | residual.sugar &lt;dbl&gt; | chlorides &lt;dbl&gt; | density &lt;dbl&gt; | citric.acid &lt;dbl&gt; |\n",
       "|---|---|---|---|---|---|---|---|\n",
       "| 34 | 3.51 | 9.4 | 5 | 1.9 | 0.076 | 0.9978 | 0.00 |\n",
       "| 67 | 3.20 | 9.8 | 5 | 2.6 | 0.098 | 0.9968 | 0.00 |\n",
       "| 54 | 3.26 | 9.8 | 5 | 2.3 | 0.092 | 0.9970 | 0.04 |\n",
       "| 60 | 3.16 | 9.8 | 6 | 1.9 | 0.075 | 0.9980 | 0.56 |\n",
       "| 34 | 3.51 | 9.4 | 5 | 1.9 | 0.076 | 0.9978 | 0.00 |\n",
       "| 40 | 3.51 | 9.4 | 5 | 1.8 | 0.075 | 0.9978 | 0.00 |\n",
       "\n"
      ],
      "text/plain": [
       "  total.sulfur.dioxide pH   alcohol quality residual.sugar chlorides density\n",
       "1 34                   3.51 9.4     5       1.9            0.076     0.9978 \n",
       "2 67                   3.20 9.8     5       2.6            0.098     0.9968 \n",
       "3 54                   3.26 9.8     5       2.3            0.092     0.9970 \n",
       "4 60                   3.16 9.8     6       1.9            0.075     0.9980 \n",
       "5 34                   3.51 9.4     5       1.9            0.076     0.9978 \n",
       "6 40                   3.51 9.4     5       1.8            0.075     0.9978 \n",
       "  citric.acid\n",
       "1 0.00       \n",
       "2 0.00       \n",
       "3 0.04       \n",
       "4 0.56       \n",
       "5 0.00       \n",
       "6 0.00       "
      ]
     },
     "metadata": {},
     "output_type": "display_data"
    },
    {
     "data": {
      "text/html": [
       "1143"
      ],
      "text/latex": [
       "1143"
      ],
      "text/markdown": [
       "1143"
      ],
      "text/plain": [
       "[1] 1143"
      ]
     },
     "metadata": {},
     "output_type": "display_data"
    }
   ],
   "source": [
    "# Import dataset\n",
    "url <- \"https://raw.githubusercontent.com/SurajDatta/DSCI100_group_project/main/data/WineQT.csv\"\n",
    "wine_data <- read_csv(url)\n",
    "colnames(wine_data) <- make.names(colnames(wine_data))\n",
    "\n",
    "wine_data_clean <- wine_data %>%\n",
    "     select(total.sulfur.dioxide, pH, alcohol, quality, residual.sugar, chlorides, density, citric.acid) %>%\n",
    "     mutate(quality = as_factor(quality))\n",
    "head(wine_data_clean)\n",
    "nrow(wine_data_clean)"
   ]
  },
  {
   "cell_type": "markdown",
   "metadata": {},
   "source": [
    "|Variable             |Explanation                                                                       |\n",
    "|---------------------|----------------------------------------------------------------------------------|\n",
    "|total.sulfur.dioxide |The total amount of sulfur dioxide in wine.                                       |\n",
    "|pH                   |Measure of how acidic/basic wine is.                                              | \n",
    "|alcohol              |The alchohol amount in wine.                                                      |\n",
    "|quality              |The quality of wine.                                                              |\n",
    "|residual.sugar       |The residual sugar in the wine after the sugar fermentation carried out by yeasts.|\n",
    "|chlorides            |The chlorides amount in wine.                                                     |\n",
    "|density              |The density of wine.                                                              |      \n",
    "|citric.acid          |The amount of citric acid in wine.                                                |\n"
   ]
  },
  {
   "cell_type": "markdown",
   "metadata": {},
   "source": [
    "**Table 1: List of Potential Predicors.**\n",
    "\n",
    "This table lists the variables used to assess the quality of the wine as well as a discription for each. Each of these variables have some relationship with the qualit of wine and have potential to predict the bets wine on a given scale."
   ]
  },
  {
   "cell_type": "code",
   "execution_count": 12,
   "metadata": {},
   "outputs": [],
   "source": [
    "# data split\n",
    "wine_split <- initial_split(wine_data_clean, prop = 0.75, strata = quality)\n",
    "wine_train <- training(wine_split)\n",
    "wine_test <- testing(wine_split)"
   ]
  },
  {
   "cell_type": "code",
   "execution_count": 13,
   "metadata": {},
   "outputs": [
    {
     "name": "stderr",
     "output_type": "stream",
     "text": [
      "`stat_bin()` using `bins = 30`. Pick better value with `binwidth`.\n",
      "\n",
      "`stat_bin()` using `bins = 30`. Pick better value with `binwidth`.\n",
      "\n",
      "`stat_bin()` using `bins = 30`. Pick better value with `binwidth`.\n",
      "\n",
      "`stat_bin()` using `bins = 30`. Pick better value with `binwidth`.\n",
      "\n",
      "`stat_bin()` using `bins = 30`. Pick better value with `binwidth`.\n",
      "\n",
      "`stat_bin()` using `bins = 30`. Pick better value with `binwidth`.\n",
      "\n",
      "`stat_bin()` using `bins = 30`. Pick better value with `binwidth`.\n",
      "\n"
     ]
    },
    {
     "data": {
      "image/png": "[encoded data removed]",
      "text/plain": [
       "plot without title"
      ]
     },
     "metadata": {
      "image/png": {
       "height": 420,
       "width": 420
      }
     },
     "output_type": "display_data"
    }
   ],
   "source": [
    "wine_ggpairs <- wine_train %>%\n",
    "   ggpairs\n",
    "wine_ggpairs"
   ]
  },
  {
   "cell_type": "markdown",
   "metadata": {},
   "source": [
    "**GGpair plot**\n",
    "\n",
    "caption: The ggpair plots of seven different data and quality shows that the *residue sugar* and *chlorides* have slightly lower corelation with quality, indicating these two variables are not suitable to be predictors."
   ]
  },
  {
   "cell_type": "markdown",
   "metadata": {},
   "source": [
    "#### The first KNN classification model is for single predictors with the predicted quality. \n",
    "We will use for_loop on each predictor to simplify the steps. \n",
    "The results will show in the table with 3 columns: **predictor**, **best k value**, and **accuracy**.\n",
    "Based on accuarcy of each single predictor, we will select the best 4 predictors for further examination of combined predictors."
   ]
  },
  {
   "cell_type": "code",
   "execution_count": 14,
   "metadata": {},
   "outputs": [
    {
     "name": "stderr",
     "output_type": "stream",
     "text": [
      "\u001b[33m!\u001b[39m \u001b[33mFold2: internal: No observations were detected in `truth` for level(s): '3'\n",
      "Com...\u001b[39m\n",
      "\n",
      "\u001b[33m!\u001b[39m \u001b[33mFold4: internal: No observations were detected in `truth` for level(s): '3'\n",
      "Com...\u001b[39m\n",
      "\n",
      "\u001b[33m!\u001b[39m \u001b[33mFold5: internal: No observations were detected in `truth` for level(s): '8'\n",
      "Com...\u001b[39m\n",
      "\n",
      "\u001b[33m!\u001b[39m \u001b[33mFold2: internal: No observations were detected in `truth` for level(s): '3'\n",
      "Com...\u001b[39m\n",
      "\n",
      "\u001b[33m!\u001b[39m \u001b[33mFold4: internal: No observations were detected in `truth` for level(s): '3'\n",
      "Com...\u001b[39m\n",
      "\n",
      "\u001b[33m!\u001b[39m \u001b[33mFold5: internal: No observations were detected in `truth` for level(s): '8'\n",
      "Com...\u001b[39m\n",
      "\n",
      "\u001b[33m!\u001b[39m \u001b[33mFold2: internal: No observations were detected in `truth` for level(s): '3'\n",
      "Com...\u001b[39m\n",
      "\n",
      "\u001b[33m!\u001b[39m \u001b[33mFold4: internal: No observations were detected in `truth` for level(s): '3'\n",
      "Com...\u001b[39m\n",
      "\n",
      "\u001b[33m!\u001b[39m \u001b[33mFold5: internal: No observations were detected in `truth` for level(s): '8'\n",
      "Com...\u001b[39m\n",
      "\n",
      "\u001b[33m!\u001b[39m \u001b[33mFold2: internal: No observations were detected in `truth` for level(s): '3'\n",
      "Com...\u001b[39m\n",
      "\n",
      "\u001b[33m!\u001b[39m \u001b[33mFold4: internal: No observations were detected in `truth` for level(s): '3'\n",
      "Com...\u001b[39m\n",
      "\n",
      "\u001b[33m!\u001b[39m \u001b[33mFold5: internal: No observations were detected in `truth` for level(s): '8'\n",
      "Com...\u001b[39m\n",
      "\n",
      "\u001b[33m!\u001b[39m \u001b[33mFold2: internal: No observations were detected in `truth` for level(s): '3'\n",
      "Com...\u001b[39m\n",
      "\n",
      "\u001b[33m!\u001b[39m \u001b[33mFold4: internal: No observations were detected in `truth` for level(s): '3'\n",
      "Com...\u001b[39m\n",
      "\n",
      "\u001b[33m!\u001b[39m \u001b[33mFold5: internal: No observations were detected in `truth` for level(s): '8'\n",
      "Com...\u001b[39m\n",
      "\n",
      "\u001b[33m!\u001b[39m \u001b[33mFold2: internal: No observations were detected in `truth` for level(s): '3'\n",
      "Com...\u001b[39m\n",
      "\n",
      "\u001b[33m!\u001b[39m \u001b[33mFold4: internal: No observations were detected in `truth` for level(s): '3'\n",
      "Com...\u001b[39m\n",
      "\n",
      "\u001b[33m!\u001b[39m \u001b[33mFold5: internal: No observations were detected in `truth` for level(s): '8'\n",
      "Com...\u001b[39m\n",
      "\n",
      "\u001b[33m!\u001b[39m \u001b[33mFold2: internal: No observations were detected in `truth` for level(s): '3'\n",
      "Com...\u001b[39m\n",
      "\n",
      "\u001b[33m!\u001b[39m \u001b[33mFold4: internal: No observations were detected in `truth` for level(s): '3'\n",
      "Com...\u001b[39m\n",
      "\n",
      "\u001b[33m!\u001b[39m \u001b[33mFold5: internal: No observations were detected in `truth` for level(s): '8'\n",
      "Com...\u001b[39m\n",
      "\n",
      "\u001b[33m!\u001b[39m \u001b[33mFold2: internal: No observations were detected in `truth` for level(s): '3'\n",
      "Com...\u001b[39m\n",
      "\n",
      "\u001b[33m!\u001b[39m \u001b[33mFold4: internal: No observations were detected in `truth` for level(s): '3'\n",
      "Com...\u001b[39m\n",
      "\n",
      "\u001b[33m!\u001b[39m \u001b[33mFold5: internal: No observations were detected in `truth` for level(s): '8'\n",
      "Com...\u001b[39m\n",
      "\n",
      "\u001b[33m!\u001b[39m \u001b[33mFold2: internal: No observations were detected in `truth` for level(s): '3'\n",
      "Com...\u001b[39m\n",
      "\n",
      "\u001b[33m!\u001b[39m \u001b[33mFold4: internal: No observations were detected in `truth` for level(s): '3'\n",
      "Com...\u001b[39m\n",
      "\n",
      "\u001b[33m!\u001b[39m \u001b[33mFold5: internal: No observations were detected in `truth` for level(s): '8'\n",
      "Com...\u001b[39m\n",
      "\n",
      "\u001b[33m!\u001b[39m \u001b[33mFold2: internal: No observations were detected in `truth` for level(s): '3'\n",
      "Com...\u001b[39m\n",
      "\n",
      "\u001b[33m!\u001b[39m \u001b[33mFold4: internal: No observations were detected in `truth` for level(s): '3'\n",
      "Com...\u001b[39m\n",
      "\n",
      "\u001b[33m!\u001b[39m \u001b[33mFold5: internal: No observations were detected in `truth` for level(s): '8'\n",
      "Com...\u001b[39m\n",
      "\n",
      "\u001b[33m!\u001b[39m \u001b[33mFold2: internal: No observations were detected in `truth` for level(s): '3'\n",
      "Com...\u001b[39m\n",
      "\n",
      "\u001b[33m!\u001b[39m \u001b[33mFold4: internal: No observations were detected in `truth` for level(s): '3'\n",
      "Com...\u001b[39m\n",
      "\n",
      "\u001b[33m!\u001b[39m \u001b[33mFold5: internal: No observations were detected in `truth` for level(s): '8'\n",
      "Com...\u001b[39m\n",
      "\n",
      "\u001b[33m!\u001b[39m \u001b[33mFold2: internal: No observations were detected in `truth` for level(s): '3'\n",
      "Com...\u001b[39m\n",
      "\n",
      "\u001b[33m!\u001b[39m \u001b[33mFold4: internal: No observations were detected in `truth` for level(s): '3'\n",
      "Com...\u001b[39m\n",
      "\n",
      "\u001b[33m!\u001b[39m \u001b[33mFold5: internal: No observations were detected in `truth` for level(s): '8'\n",
      "Com...\u001b[39m\n",
      "\n",
      "\u001b[33m!\u001b[39m \u001b[33mFold2: internal: No observations were detected in `truth` for level(s): '3'\n",
      "Com...\u001b[39m\n",
      "\n",
      "\u001b[33m!\u001b[39m \u001b[33mFold4: internal: No observations were detected in `truth` for level(s): '3'\n",
      "Com...\u001b[39m\n",
      "\n",
      "\u001b[33m!\u001b[39m \u001b[33mFold5: internal: No observations were detected in `truth` for level(s): '8'\n",
      "Com...\u001b[39m\n",
      "\n",
      "\u001b[33m!\u001b[39m \u001b[33mFold2: internal: No observations were detected in `truth` for level(s): '3'\n",
      "Com...\u001b[39m\n",
      "\n",
      "\u001b[33m!\u001b[39m \u001b[33mFold4: internal: No observations were detected in `truth` for level(s): '3'\n",
      "Com...\u001b[39m\n",
      "\n",
      "\u001b[33m!\u001b[39m \u001b[33mFold5: internal: No observations were detected in `truth` for level(s): '8'\n",
      "Com...\u001b[39m\n",
      "\n",
      "\u001b[33m!\u001b[39m \u001b[33mFold2: internal: No observations were detected in `truth` for level(s): '3'\n",
      "Com...\u001b[39m\n",
      "\n",
      "\u001b[33m!\u001b[39m \u001b[33mFold4: internal: No observations were detected in `truth` for level(s): '3'\n",
      "Com...\u001b[39m\n",
      "\n",
      "\u001b[33m!\u001b[39m \u001b[33mFold5: internal: No observations were detected in `truth` for level(s): '8'\n",
      "Com...\u001b[39m\n",
      "\n",
      "\u001b[33m!\u001b[39m \u001b[33mFold2: internal: No observations were detected in `truth` for level(s): '3'\n",
      "Com...\u001b[39m\n",
      "\n",
      "\u001b[33m!\u001b[39m \u001b[33mFold4: internal: No observations were detected in `truth` for level(s): '3'\n",
      "Com...\u001b[39m\n",
      "\n",
      "\u001b[33m!\u001b[39m \u001b[33mFold5: internal: No observations were detected in `truth` for level(s): '8'\n",
      "Com...\u001b[39m\n",
      "\n",
      "\u001b[33m!\u001b[39m \u001b[33mFold2: internal: No observations were detected in `truth` for level(s): '3'\n",
      "Com...\u001b[39m\n",
      "\n",
      "\u001b[33m!\u001b[39m \u001b[33mFold4: internal: No observations were detected in `truth` for level(s): '3'\n",
      "Com...\u001b[39m\n",
      "\n",
      "\u001b[33m!\u001b[39m \u001b[33mFold5: internal: No observations were detected in `truth` for level(s): '8'\n",
      "Com...\u001b[39m\n",
      "\n",
      "\u001b[33m!\u001b[39m \u001b[33mFold2: internal: No observations were detected in `truth` for level(s): '3'\n",
      "Com...\u001b[39m\n",
      "\n",
      "\u001b[33m!\u001b[39m \u001b[33mFold4: internal: No observations were detected in `truth` for level(s): '3'\n",
      "Com...\u001b[39m\n",
      "\n",
      "\u001b[33m!\u001b[39m \u001b[33mFold5: internal: No observations were detected in `truth` for level(s): '8'\n",
      "Com...\u001b[39m\n",
      "\n",
      "\u001b[33m!\u001b[39m \u001b[33mFold2: internal: No observations were detected in `truth` for level(s): '3'\n",
      "Com...\u001b[39m\n",
      "\n",
      "\u001b[33m!\u001b[39m \u001b[33mFold4: internal: No observations were detected in `truth` for level(s): '3'\n",
      "Com...\u001b[39m\n",
      "\n",
      "\u001b[33m!\u001b[39m \u001b[33mFold5: internal: No observations were detected in `truth` for level(s): '8'\n",
      "Com...\u001b[39m\n",
      "\n",
      "\u001b[33m!\u001b[39m \u001b[33mFold2: internal: No observations were detected in `truth` for level(s): '3'\n",
      "Com...\u001b[39m\n",
      "\n",
      "\u001b[33m!\u001b[39m \u001b[33mFold4: internal: No observations were detected in `truth` for level(s): '3'\n",
      "Com...\u001b[39m\n",
      "\n",
      "\u001b[33m!\u001b[39m \u001b[33mFold5: internal: No observations were detected in `truth` for level(s): '8'\n",
      "Com...\u001b[39m\n",
      "\n",
      "\u001b[33m!\u001b[39m \u001b[33mFold2: internal: No observations were detected in `truth` for level(s): '3'\n",
      "Com...\u001b[39m\n",
      "\n",
      "\u001b[33m!\u001b[39m \u001b[33mFold4: internal: No observations were detected in `truth` for level(s): '3'\n",
      "Com...\u001b[39m\n",
      "\n",
      "\u001b[33m!\u001b[39m \u001b[33mFold5: internal: No observations were detected in `truth` for level(s): '8'\n",
      "Com...\u001b[39m\n",
      "\n",
      "\u001b[33m!\u001b[39m \u001b[33mFold2: internal: No observations were detected in `truth` for level(s): '3'\n",
      "Com...\u001b[39m\n",
      "\n",
      "\u001b[33m!\u001b[39m \u001b[33mFold4: internal: No observations were detected in `truth` for level(s): '3'\n",
      "Com...\u001b[39m\n",
      "\n",
      "\u001b[33m!\u001b[39m \u001b[33mFold5: internal: No observations were detected in `truth` for level(s): '8'\n",
      "Com...\u001b[39m\n",
      "\n",
      "\u001b[33m!\u001b[39m \u001b[33mFold2: internal: No observations were detected in `truth` for level(s): '3'\n",
      "Com...\u001b[39m\n",
      "\n",
      "\u001b[33m!\u001b[39m \u001b[33mFold4: internal: No observations were detected in `truth` for level(s): '3'\n",
      "Com...\u001b[39m\n",
      "\n",
      "\u001b[33m!\u001b[39m \u001b[33mFold5: internal: No observations were detected in `truth` for level(s): '8'\n",
      "Com...\u001b[39m\n",
      "\n",
      "\u001b[33m!\u001b[39m \u001b[33mFold2: internal: No observations were detected in `truth` for level(s): '3'\n",
      "Com...\u001b[39m\n",
      "\n",
      "\u001b[33m!\u001b[39m \u001b[33mFold4: internal: No observations were detected in `truth` for level(s): '3'\n",
      "Com...\u001b[39m\n",
      "\n",
      "\u001b[33m!\u001b[39m \u001b[33mFold5: internal: No observations were detected in `truth` for level(s): '8'\n",
      "Com...\u001b[39m\n",
      "\n",
      "\u001b[33m!\u001b[39m \u001b[33mFold2: internal: No observations were detected in `truth` for level(s): '3'\n",
      "Com...\u001b[39m\n",
      "\n",
      "\u001b[33m!\u001b[39m \u001b[33mFold4: internal: No observations were detected in `truth` for level(s): '3'\n",
      "Com...\u001b[39m\n",
      "\n",
      "\u001b[33m!\u001b[39m \u001b[33mFold5: internal: No observations were detected in `truth` for level(s): '8'\n",
      "Com...\u001b[39m\n",
      "\n",
      "\u001b[33m!\u001b[39m \u001b[33mFold2: internal: No observations were detected in `truth` for level(s): '3'\n",
      "Com...\u001b[39m\n",
      "\n",
      "\u001b[33m!\u001b[39m \u001b[33mFold4: internal: No observations were detected in `truth` for level(s): '3'\n",
      "Com...\u001b[39m\n",
      "\n",
      "\u001b[33m!\u001b[39m \u001b[33mFold5: internal: No observations were detected in `truth` for level(s): '8'\n",
      "Com...\u001b[39m\n",
      "\n",
      "\u001b[33m!\u001b[39m \u001b[33mFold2: internal: No observations were detected in `truth` for level(s): '3'\n",
      "Com...\u001b[39m\n",
      "\n",
      "\u001b[33m!\u001b[39m \u001b[33mFold4: internal: No observations were detected in `truth` for level(s): '3'\n",
      "Com...\u001b[39m\n",
      "\n",
      "\u001b[33m!\u001b[39m \u001b[33mFold5: internal: No observations were detected in `truth` for level(s): '8'\n",
      "Com...\u001b[39m\n",
      "\n",
      "\u001b[33m!\u001b[39m \u001b[33mFold2: internal: No observations were detected in `truth` for level(s): '3'\n",
      "Com...\u001b[39m\n",
      "\n",
      "\u001b[33m!\u001b[39m \u001b[33mFold4: internal: No observations were detected in `truth` for level(s): '3'\n",
      "Com...\u001b[39m\n",
      "\n",
      "\u001b[33m!\u001b[39m \u001b[33mFold5: internal: No observations were detected in `truth` for level(s): '8'\n",
      "Com...\u001b[39m\n",
      "\n"
     ]
    },
    {
     "data": {
      "text/html": [
       "<table>\n",
       "<caption>A tibble: 7 × 3</caption>\n",
       "<thead>\n",
       "\t<tr><th scope=col>size</th><th scope=col>model_string</th><th scope=col>accuracy</th></tr>\n",
       "\t<tr><th scope=col>&lt;int&gt;</th><th scope=col>&lt;chr&gt;</th><th scope=col>&lt;dbl&gt;</th></tr>\n",
       "</thead>\n",
       "<tbody>\n",
       "\t<tr><td>1</td><td>quality ~ total.sulfur.dioxide                                                        </td><td>0.5640691</td></tr>\n",
       "\t<tr><td>2</td><td>quality ~ total.sulfur.dioxide+alcohol                                                </td><td>0.5640691</td></tr>\n",
       "\t<tr><td>3</td><td>quality ~ total.sulfur.dioxide+alcohol+residual.sugar                                 </td><td>0.5640691</td></tr>\n",
       "\t<tr><td>4</td><td>quality ~ total.sulfur.dioxide+alcohol+residual.sugar+pH                              </td><td>0.5640691</td></tr>\n",
       "\t<tr><td>5</td><td>quality ~ total.sulfur.dioxide+alcohol+residual.sugar+pH+chlorides                    </td><td>0.5640691</td></tr>\n",
       "\t<tr><td>6</td><td>quality ~ total.sulfur.dioxide+alcohol+residual.sugar+pH+chlorides+density            </td><td>0.5640691</td></tr>\n",
       "\t<tr><td>7</td><td>quality ~ total.sulfur.dioxide+alcohol+residual.sugar+pH+chlorides+density+citric.acid</td><td>0.5640691</td></tr>\n",
       "</tbody>\n",
       "</table>\n"
      ],
      "text/latex": [
       "A tibble: 7 × 3\n",
       "\\begin{tabular}{lll}\n",
       " size & model\\_string & accuracy\\\\\n",
       " <int> & <chr> & <dbl>\\\\\n",
       "\\hline\n",
       "\t 1 & quality \\textasciitilde{} total.sulfur.dioxide                                                         & 0.5640691\\\\\n",
       "\t 2 & quality \\textasciitilde{} total.sulfur.dioxide+alcohol                                                 & 0.5640691\\\\\n",
       "\t 3 & quality \\textasciitilde{} total.sulfur.dioxide+alcohol+residual.sugar                                  & 0.5640691\\\\\n",
       "\t 4 & quality \\textasciitilde{} total.sulfur.dioxide+alcohol+residual.sugar+pH                               & 0.5640691\\\\\n",
       "\t 5 & quality \\textasciitilde{} total.sulfur.dioxide+alcohol+residual.sugar+pH+chlorides                     & 0.5640691\\\\\n",
       "\t 6 & quality \\textasciitilde{} total.sulfur.dioxide+alcohol+residual.sugar+pH+chlorides+density             & 0.5640691\\\\\n",
       "\t 7 & quality \\textasciitilde{} total.sulfur.dioxide+alcohol+residual.sugar+pH+chlorides+density+citric.acid & 0.5640691\\\\\n",
       "\\end{tabular}\n"
      ],
      "text/markdown": [
       "\n",
       "A tibble: 7 × 3\n",
       "\n",
       "| size &lt;int&gt; | model_string &lt;chr&gt; | accuracy &lt;dbl&gt; |\n",
       "|---|---|---|\n",
       "| 1 | quality ~ total.sulfur.dioxide                                                         | 0.5640691 |\n",
       "| 2 | quality ~ total.sulfur.dioxide+alcohol                                                 | 0.5640691 |\n",
       "| 3 | quality ~ total.sulfur.dioxide+alcohol+residual.sugar                                  | 0.5640691 |\n",
       "| 4 | quality ~ total.sulfur.dioxide+alcohol+residual.sugar+pH                               | 0.5640691 |\n",
       "| 5 | quality ~ total.sulfur.dioxide+alcohol+residual.sugar+pH+chlorides                     | 0.5640691 |\n",
       "| 6 | quality ~ total.sulfur.dioxide+alcohol+residual.sugar+pH+chlorides+density             | 0.5640691 |\n",
       "| 7 | quality ~ total.sulfur.dioxide+alcohol+residual.sugar+pH+chlorides+density+citric.acid | 0.5640691 |\n",
       "\n"
      ],
      "text/plain": [
       "  size\n",
       "1 1   \n",
       "2 2   \n",
       "3 3   \n",
       "4 4   \n",
       "5 5   \n",
       "6 6   \n",
       "7 7   \n",
       "  model_string                                                                          \n",
       "1 quality ~ total.sulfur.dioxide                                                        \n",
       "2 quality ~ total.sulfur.dioxide+alcohol                                                \n",
       "3 quality ~ total.sulfur.dioxide+alcohol+residual.sugar                                 \n",
       "4 quality ~ total.sulfur.dioxide+alcohol+residual.sugar+pH                              \n",
       "5 quality ~ total.sulfur.dioxide+alcohol+residual.sugar+pH+chlorides                    \n",
       "6 quality ~ total.sulfur.dioxide+alcohol+residual.sugar+pH+chlorides+density            \n",
       "7 quality ~ total.sulfur.dioxide+alcohol+residual.sugar+pH+chlorides+density+citric.acid\n",
       "  accuracy \n",
       "1 0.5640691\n",
       "2 0.5640691\n",
       "3 0.5640691\n",
       "4 0.5640691\n",
       "5 0.5640691\n",
       "6 0.5640691\n",
       "7 0.5640691"
      ]
     },
     "metadata": {},
     "output_type": "display_data"
    }
   ],
   "source": [
    "set.seed(999)\n",
    "\n",
    "wine_subset <- wine_train %>%\n",
    "  select(total.sulfur.dioxide, pH, alcohol, quality, residual.sugar, chlorides, density, citric.acid)\n",
    "\n",
    "names <- colnames(wine_subset %>% select(-quality))\n",
    "\n",
    "#wine_subset\n",
    "\n",
    "# create an empty tibble to store the results\n",
    "accuracies <- tibble(size = integer(), \n",
    "                     model_string = character(), \n",
    "                     accuracy = numeric())\n",
    "\n",
    "wine_recipe <- recipe(quality ~. , data = wine_train) %>%\n",
    "step_scale(all_predictors()) %>%\n",
    "step_center(all_predictors())\n",
    "\n",
    "\n",
    "# create a model specification\n",
    "knn_spec <- nearest_neighbor(weight_func = \"rectangular\", neighbors = tune()) %>%\n",
    "     set_engine(\"kknn\") %>%\n",
    "     set_mode(\"classification\")\n",
    "\n",
    "# create a 5-fold cross-validation object\n",
    "wine_vfold <- vfold_cv(wine_subset, v = 5, strata = quality)\n",
    "\n",
    "# store the total number of predictors\n",
    "n_total <- length(names)\n",
    "\n",
    "# stores selected predictors\n",
    "selected <- c()\n",
    "\n",
    "# for every size from 1 to the total number of predictors\n",
    "for (i in 1:n_total) {\n",
    "    # for every predictor still not added yet\n",
    "    accs <- list()\n",
    "    models <- list()\n",
    "    for (j in 1:length(names)) {\n",
    "        # create a model string for this combination of predictors\n",
    "        preds_new <- c(selected, names[[j]])\n",
    "        model_string <- paste(\"quality\", \"~\", paste(preds_new, collapse=\"+\"))\n",
    "\n",
    "        # create a recipe from the model string\n",
    "        cancer_recipe <- recipe(as.formula(model_string), \n",
    "                                data = wine_subset) %>%\n",
    "                          step_scale(all_predictors()) %>%\n",
    "                          step_center(all_predictors())\n",
    "\n",
    "        # tune the KNN classifier with these predictors, \n",
    "        # and collect the accuracy for the best K\n",
    "        \n",
    "        #gridvals = tibble(neighbors = seq(1, 20))\n",
    "        \n",
    "        acc <- workflow() %>%\n",
    "          add_recipe(wine_recipe) %>%\n",
    "          add_model(knn_spec) %>%\n",
    "          tune_grid(resamples = wine_vfold, grid = 10) %>%\n",
    "          collect_metrics() %>%\n",
    "          filter(.metric == \"accuracy\") %>%\n",
    "          summarize(mx = max(mean))\n",
    "        acc <- acc$mx %>% unlist()\n",
    "\n",
    "        # add this result to the dataframe\n",
    "        accs[[j]] <- acc\n",
    "        models[[j]] <- model_string\n",
    "    }\n",
    "    jstar <- which.max(unlist(accs))\n",
    "    accuracies <- accuracies %>% \n",
    "      add_row(size = i, \n",
    "              model_string = models[[jstar]], \n",
    "              accuracy = accs[[jstar]])\n",
    "    selected <- c(selected, names[[jstar]])\n",
    "    names <- names[-jstar]\n",
    "}\n",
    "\n",
    "accuracies"
   ]
  },
  {
   "cell_type": "code",
   "execution_count": null,
   "metadata": {},
   "outputs": [],
   "source": [
    "set.seed(999)\n",
    "\n",
    "# Create list of all preditors\n",
    "predictors <- c(\"total.sulfur.dioxide\", \"pH\", \"alcohol\", \"density\", \"citric.acid\")\n",
    "\n",
    "# Set results dataframe containing rows of single preditors, the best k, and the accuracy.\n",
    "results <- tibble()\n",
    "results <- mutate(results, predictor = \"\", best_k = 0, accuracy = 0)\n",
    "\n",
    "for (pred in predictors) {\n",
    "    \n",
    "    print(pred)\n",
    "    \n",
    "    # Select single predictor for the recipe \n",
    "    train_data <- wine_train %>%\n",
    "       select(quality, all_of(pred))\n",
    "    \n",
    "    train_test <- wine_test %>%\n",
    "       select(quality, all_of(pred))\n",
    "    \n",
    "    \n",
    "    wine_recipe <- recipe(quality ~. , data = wine_train) %>%\n",
    "      step_scale(all_predictors()) %>%\n",
    "      step_center(all_predictors())\n",
    "\n",
    "    knn_tune <- nearest_neighbor(weight_func = \"rectangular\", neighbors = tune()) %>%\n",
    "       set_engine(\"kknn\") %>%\n",
    "       set_mode(\"classification\")\n",
    "\n",
    "     wine_vfold <- vfold_cv(wine_train, v = 5, strata = quality)\n",
    "\n",
    "    gridvals = tibble(neighbors = seq(1, 20))\n",
    "    \n",
    "     knn_results <- workflow() %>%\n",
    "       add_recipe(wine_recipe) %>%\n",
    "       add_model(knn_tune) %>%\n",
    "       tune_grid(resamples = wine_vfold, grid = gridvals) %>%\n",
    "       collect_metrics()\n",
    "\n",
    "\n",
    "      accuracy <- knn_results %>% \n",
    "         filter(.metric == \"accuracy\") %>%\n",
    "         arrange(desc(mean)) %>%\n",
    "         slice(1) %>%\n",
    "         pull(mean)\n",
    "      accuracy\n",
    "\n",
    "      best_k <- knn_results %>% \n",
    "         filter(.metric == \"accuracy\") %>%\n",
    "         arrange(desc(mean)) %>%\n",
    "         slice(1) %>%\n",
    "         pull(neighbors)\n",
    "      best_k\n",
    "    \n",
    "      results <- results %>%\n",
    "         add_row(predictor = pred, best_k = best_k, accuracy = accuracy)\n",
    "}"
   ]
  },
  {
   "cell_type": "code",
   "execution_count": 25,
   "metadata": {},
   "outputs": [
    {
     "data": {
      "text/html": [
       "<table>\n",
       "<caption>A tibble: 5 × 3</caption>\n",
       "<thead>\n",
       "\t<tr><th scope=col>predictor</th><th scope=col>best_k</th><th scope=col>accuracy</th></tr>\n",
       "\t<tr><th scope=col>&lt;chr&gt;</th><th scope=col>&lt;dbl&gt;</th><th scope=col>&lt;dbl&gt;</th></tr>\n",
       "</thead>\n",
       "<tbody>\n",
       "\t<tr><td>alcohol             </td><td>16</td><td>0.5775885</td></tr>\n",
       "\t<tr><td>pH                  </td><td>20</td><td>0.5763457</td></tr>\n",
       "\t<tr><td>density             </td><td>18</td><td>0.5738760</td></tr>\n",
       "\t<tr><td>citric.acid         </td><td>14</td><td>0.5726541</td></tr>\n",
       "\t<tr><td>total.sulfur.dioxide</td><td> 1</td><td>0.5703875</td></tr>\n",
       "</tbody>\n",
       "</table>\n"
      ],
      "text/latex": [
       "A tibble: 5 × 3\n",
       "\\begin{tabular}{lll}\n",
       " predictor & best\\_k & accuracy\\\\\n",
       " <chr> & <dbl> & <dbl>\\\\\n",
       "\\hline\n",
       "\t alcohol              & 16 & 0.5775885\\\\\n",
       "\t pH                   & 20 & 0.5763457\\\\\n",
       "\t density              & 18 & 0.5738760\\\\\n",
       "\t citric.acid          & 14 & 0.5726541\\\\\n",
       "\t total.sulfur.dioxide &  1 & 0.5703875\\\\\n",
       "\\end{tabular}\n"
      ],
      "text/markdown": [
       "\n",
       "A tibble: 5 × 3\n",
       "\n",
       "| predictor &lt;chr&gt; | best_k &lt;dbl&gt; | accuracy &lt;dbl&gt; |\n",
       "|---|---|---|\n",
       "| alcohol              | 16 | 0.5775885 |\n",
       "| pH                   | 20 | 0.5763457 |\n",
       "| density              | 18 | 0.5738760 |\n",
       "| citric.acid          | 14 | 0.5726541 |\n",
       "| total.sulfur.dioxide |  1 | 0.5703875 |\n",
       "\n"
      ],
      "text/plain": [
       "  predictor            best_k accuracy \n",
       "1 alcohol              16     0.5775885\n",
       "2 pH                   20     0.5763457\n",
       "3 density              18     0.5738760\n",
       "4 citric.acid          14     0.5726541\n",
       "5 total.sulfur.dioxide  1     0.5703875"
      ]
     },
     "metadata": {},
     "output_type": "display_data"
    },
    {
     "data": {
      "text/html": [
       "<table>\n",
       "<caption>A tibble: 1 × 3</caption>\n",
       "<thead>\n",
       "\t<tr><th scope=col>predictor</th><th scope=col>best_k</th><th scope=col>accuracy</th></tr>\n",
       "\t<tr><th scope=col>&lt;chr&gt;</th><th scope=col>&lt;dbl&gt;</th><th scope=col>&lt;dbl&gt;</th></tr>\n",
       "</thead>\n",
       "<tbody>\n",
       "\t<tr><td>alcohol</td><td>16</td><td>0.5775885</td></tr>\n",
       "</tbody>\n",
       "</table>\n"
      ],
      "text/latex": [
       "A tibble: 1 × 3\n",
       "\\begin{tabular}{lll}\n",
       " predictor & best\\_k & accuracy\\\\\n",
       " <chr> & <dbl> & <dbl>\\\\\n",
       "\\hline\n",
       "\t alcohol & 16 & 0.5775885\\\\\n",
       "\\end{tabular}\n"
      ],
      "text/markdown": [
       "\n",
       "A tibble: 1 × 3\n",
       "\n",
       "| predictor &lt;chr&gt; | best_k &lt;dbl&gt; | accuracy &lt;dbl&gt; |\n",
       "|---|---|---|\n",
       "| alcohol | 16 | 0.5775885 |\n",
       "\n"
      ],
      "text/plain": [
       "  predictor best_k accuracy \n",
       "1 alcohol   16     0.5775885"
      ]
     },
     "metadata": {},
     "output_type": "display_data"
    }
   ],
   "source": [
    "results <- results %>%\n",
    "    arrange(desc(accuracy))\n",
    "\n",
    "best_pred <- results %>%\n",
    "  slice(1)\n",
    "\n",
    "results\n",
    "best_pred"
   ]
  },
  {
   "cell_type": "markdown",
   "metadata": {},
   "source": [
    "#### Table 2: K Predictors and Their Accuracy\n",
    "\n",
    "By performing a knn classification we are able to determine the best number of neighbors that should be used to result in the most accurate prediction. We begin by setting a seed to ensure our work is reproducible. We then randomly split the data into a training and testing set. This allowed us to work with the data set without being biased and compare our results with the real data that was not manipulated. The data was then processed and tuned before undergoing a cross validation. This will give us lower standard data. The data is finally fit and the accuracy is evaluated to give the best number of neighbors.\n"
   ]
  },
  {
   "cell_type": "markdown",
   "metadata": {},
   "source": [
    "#### The second knn classification model is for combined predictors with the predicted quality. \n",
    "We will use for_loop on each combined predictors to simplify the steps. \n",
    "The results in the table with 3 columns: multiple predictors, best k value for multiple predictors, and accuracy for multiple predictors."
   ]
  },
  {
   "cell_type": "code",
   "execution_count": 30,
   "metadata": {},
   "outputs": [
    {
     "name": "stdout",
     "output_type": "stream",
     "text": [
      "[1] \"quality ~ density + alcohol + pH + citric.aicd\"\n"
     ]
    },
    {
     "name": "stderr",
     "output_type": "stream",
     "text": [
      "\u001b[33m!\u001b[39m \u001b[33mFold1: internal: No observations were detected in `truth` for level(s): '3'\n",
      "Com...\u001b[39m\n",
      "\n",
      "\u001b[33m!\u001b[39m \u001b[33mFold3: internal: No observations were detected in `truth` for level(s): '3'\n",
      "Com...\u001b[39m\n",
      "\n"
     ]
    },
    {
     "name": "stdout",
     "output_type": "stream",
     "text": [
      "[1] \"quality ~ density + alcohol + pH\"\n"
     ]
    },
    {
     "name": "stderr",
     "output_type": "stream",
     "text": [
      "\u001b[33m!\u001b[39m \u001b[33mFold1: internal: No observations were detected in `truth` for level(s): '3'\n",
      "Com...\u001b[39m\n",
      "\n",
      "\u001b[33m!\u001b[39m \u001b[33mFold2: internal: No observations were detected in `truth` for level(s): '3'\n",
      "Com...\u001b[39m\n",
      "\n",
      "\u001b[33m!\u001b[39m \u001b[33mFold4: internal: No observations were detected in `truth` for level(s): '8'\n",
      "Com...\u001b[39m\n",
      "\n",
      "\u001b[33m!\u001b[39m \u001b[33mFold5: internal: No observations were detected in `truth` for level(s): '8'\n",
      "Com...\u001b[39m\n",
      "\n"
     ]
    },
    {
     "name": "stdout",
     "output_type": "stream",
     "text": [
      "[1] \"quality ~ density + alcohol\"\n"
     ]
    },
    {
     "name": "stderr",
     "output_type": "stream",
     "text": [
      "\u001b[33m!\u001b[39m \u001b[33mFold2: internal: No observations were detected in `truth` for level(s): '3'\n",
      "Com...\u001b[39m\n",
      "\n",
      "\u001b[33m!\u001b[39m \u001b[33mFold3: internal: No observations were detected in `truth` for level(s): '8'\n",
      "Com...\u001b[39m\n",
      "\n",
      "\u001b[33m!\u001b[39m \u001b[33mFold4: internal: No observations were detected in `truth` for level(s): '3'\n",
      "Com...\u001b[39m\n",
      "\n"
     ]
    },
    {
     "name": "stdout",
     "output_type": "stream",
     "text": [
      "[1] \"quality ~ density + pH\"\n",
      "[1] \"quality ~ pH + alcohol\"\n"
     ]
    },
    {
     "name": "stderr",
     "output_type": "stream",
     "text": [
      "\u001b[33m!\u001b[39m \u001b[33mFold3: internal: No observations were detected in `truth` for level(s): '3'\n",
      "Com...\u001b[39m\n",
      "\n",
      "\u001b[33m!\u001b[39m \u001b[33mFold4: internal: No observations were detected in `truth` for level(s): '8'\n",
      "Com...\u001b[39m\n",
      "\n"
     ]
    },
    {
     "name": "stdout",
     "output_type": "stream",
     "text": [
      "[1] \"quality ~ citric.acid + chlorides + residual.sugar + density + pH + total.sulfur.dioxide + alcohol\"\n"
     ]
    }
   ],
   "source": [
    "set.seed(999)\n",
    "# List of formulas that will be used to generate recipes iteratively\n",
    "formulas <- c(\n",
    "\"quality ~ density + alcohol + pH + citric.aicd\",\n",
    "\"quality ~ density + alcohol + pH\",\n",
    "\"quality ~ density + alcohol\",\n",
    "\"quality ~ density + pH\",\n",
    "\"quality ~ pH + alcohol\",\n",
    "\"quality ~ citric.acid + chlorides + residual.sugar + density + pH + total.sulfur.dioxide + alcohol\")\n",
    "\n",
    "# Setup results data frame with have rows of each predictor and resulting accuracy\n",
    "\n",
    "results_mul <- tibble()\n",
    "results_mul <- mutate(results_mul, predictor_mul = \"\", best_k_mul = 0, accuracy_mul = 0)\n",
    "\n",
    "for (f in formulas) {\n",
    "    \n",
    "    print(f)\n",
    "    \n",
    "    # Convert string formula to formula object\n",
    "    wine_recipe_mul <- recipe(quality ~. , data = wine_train) %>%\n",
    "      step_scale(all_predictors()) %>%\n",
    "      step_center(all_predictors())\n",
    "\n",
    "    knn_spec_mul <- nearest_neighbor(weight_func = \"rectangular\", neighbors = tune()) %>%\n",
    "       set_engine(\"kknn\") %>%\n",
    "       set_mode(\"classification\")\n",
    "\n",
    "    wine_vfold_mul <- vfold_cv(wine_train, v = 5, strata = quality)\n",
    "\n",
    "    gridvals_mul = tibble(neighbors = seq(1, 20))\n",
    "    \n",
    "    knn_results_mul <- workflow() %>%\n",
    "       add_recipe(wine_recipe_mul) %>%\n",
    "       add_model(knn_spec_mul) %>%\n",
    "       tune_grid(resamples = wine_vfold_mul, grid = gridvals_mul) %>%\n",
    "       collect_metrics() %>% \n",
    "         filter(.metric == \"accuracy\") %>%\n",
    "         arrange(desc(mean)) %>%\n",
    "         slice(1) \n",
    "\n",
    "    accuracy_mul <- knn_results_mul %>%\n",
    "         pull(mean) \n",
    "    accuracy_mul\n",
    "\n",
    "    best_k_mul <- knn_results_mul %>%\n",
    "         pull(neighbors)\n",
    "    best_k_mul\n",
    "    \n",
    "    results_mul <- results_mul %>%\n",
    "         add_row(predictor_mul = f, best_k_mul = best_k_mul, accuracy_mul = accuracy_mul)\n",
    "}"
   ]
  },
  {
   "cell_type": "code",
   "execution_count": 32,
   "metadata": {},
   "outputs": [
    {
     "data": {
      "text/html": [
       "<table>\n",
       "<caption>A tibble: 6 × 3</caption>\n",
       "<thead>\n",
       "\t<tr><th scope=col>predictor_mul</th><th scope=col>best_k_mul</th><th scope=col>accuracy_mul</th></tr>\n",
       "\t<tr><th scope=col>&lt;chr&gt;</th><th scope=col>&lt;dbl&gt;</th><th scope=col>&lt;dbl&gt;</th></tr>\n",
       "</thead>\n",
       "<tbody>\n",
       "\t<tr><td>quality ~ citric.acid + chlorides + residual.sugar + density + pH + total.sulfur.dioxide + alcohol</td><td>17</td><td>0.5808889</td></tr>\n",
       "\t<tr><td>quality ~ density + alcohol                                                                       </td><td>16</td><td>0.5775885</td></tr>\n",
       "\t<tr><td>quality ~ density + alcohol + pH                                                                  </td><td>20</td><td>0.5763457</td></tr>\n",
       "\t<tr><td>quality ~ density + pH                                                                            </td><td>18</td><td>0.5738760</td></tr>\n",
       "\t<tr><td>quality ~ pH + alcohol                                                                            </td><td>14</td><td>0.5726541</td></tr>\n",
       "\t<tr><td>quality ~ density + alcohol + pH + citric.aicd                                                    </td><td> 1</td><td>0.5703875</td></tr>\n",
       "</tbody>\n",
       "</table>\n"
      ],
      "text/latex": [
       "A tibble: 6 × 3\n",
       "\\begin{tabular}{lll}\n",
       " predictor\\_mul & best\\_k\\_mul & accuracy\\_mul\\\\\n",
       " <chr> & <dbl> & <dbl>\\\\\n",
       "\\hline\n",
       "\t quality \\textasciitilde{} citric.acid + chlorides + residual.sugar + density + pH + total.sulfur.dioxide + alcohol & 17 & 0.5808889\\\\\n",
       "\t quality \\textasciitilde{} density + alcohol                                                                        & 16 & 0.5775885\\\\\n",
       "\t quality \\textasciitilde{} density + alcohol + pH                                                                   & 20 & 0.5763457\\\\\n",
       "\t quality \\textasciitilde{} density + pH                                                                             & 18 & 0.5738760\\\\\n",
       "\t quality \\textasciitilde{} pH + alcohol                                                                             & 14 & 0.5726541\\\\\n",
       "\t quality \\textasciitilde{} density + alcohol + pH + citric.aicd                                                     &  1 & 0.5703875\\\\\n",
       "\\end{tabular}\n"
      ],
      "text/markdown": [
       "\n",
       "A tibble: 6 × 3\n",
       "\n",
       "| predictor_mul &lt;chr&gt; | best_k_mul &lt;dbl&gt; | accuracy_mul &lt;dbl&gt; |\n",
       "|---|---|---|\n",
       "| quality ~ citric.acid + chlorides + residual.sugar + density + pH + total.sulfur.dioxide + alcohol | 17 | 0.5808889 |\n",
       "| quality ~ density + alcohol                                                                        | 16 | 0.5775885 |\n",
       "| quality ~ density + alcohol + pH                                                                   | 20 | 0.5763457 |\n",
       "| quality ~ density + pH                                                                             | 18 | 0.5738760 |\n",
       "| quality ~ pH + alcohol                                                                             | 14 | 0.5726541 |\n",
       "| quality ~ density + alcohol + pH + citric.aicd                                                     |  1 | 0.5703875 |\n",
       "\n"
      ],
      "text/plain": [
       "  predictor_mul                                                                                     \n",
       "1 quality ~ citric.acid + chlorides + residual.sugar + density + pH + total.sulfur.dioxide + alcohol\n",
       "2 quality ~ density + alcohol                                                                       \n",
       "3 quality ~ density + alcohol + pH                                                                  \n",
       "4 quality ~ density + pH                                                                            \n",
       "5 quality ~ pH + alcohol                                                                            \n",
       "6 quality ~ density + alcohol + pH + citric.aicd                                                    \n",
       "  best_k_mul accuracy_mul\n",
       "1 17         0.5808889   \n",
       "2 16         0.5775885   \n",
       "3 20         0.5763457   \n",
       "4 18         0.5738760   \n",
       "5 14         0.5726541   \n",
       "6  1         0.5703875   "
      ]
     },
     "metadata": {},
     "output_type": "display_data"
    },
    {
     "data": {
      "text/html": [
       "<table>\n",
       "<caption>A tibble: 1 × 3</caption>\n",
       "<thead>\n",
       "\t<tr><th scope=col>predictor_mul</th><th scope=col>best_k_mul</th><th scope=col>accuracy_mul</th></tr>\n",
       "\t<tr><th scope=col>&lt;chr&gt;</th><th scope=col>&lt;dbl&gt;</th><th scope=col>&lt;dbl&gt;</th></tr>\n",
       "</thead>\n",
       "<tbody>\n",
       "\t<tr><td>quality ~ citric.acid + chlorides + residual.sugar + density + pH + total.sulfur.dioxide + alcohol</td><td>17</td><td>0.5808889</td></tr>\n",
       "</tbody>\n",
       "</table>\n"
      ],
      "text/latex": [
       "A tibble: 1 × 3\n",
       "\\begin{tabular}{lll}\n",
       " predictor\\_mul & best\\_k\\_mul & accuracy\\_mul\\\\\n",
       " <chr> & <dbl> & <dbl>\\\\\n",
       "\\hline\n",
       "\t quality \\textasciitilde{} citric.acid + chlorides + residual.sugar + density + pH + total.sulfur.dioxide + alcohol & 17 & 0.5808889\\\\\n",
       "\\end{tabular}\n"
      ],
      "text/markdown": [
       "\n",
       "A tibble: 1 × 3\n",
       "\n",
       "| predictor_mul &lt;chr&gt; | best_k_mul &lt;dbl&gt; | accuracy_mul &lt;dbl&gt; |\n",
       "|---|---|---|\n",
       "| quality ~ citric.acid + chlorides + residual.sugar + density + pH + total.sulfur.dioxide + alcohol | 17 | 0.5808889 |\n",
       "\n"
      ],
      "text/plain": [
       "  predictor_mul                                                                                     \n",
       "1 quality ~ citric.acid + chlorides + residual.sugar + density + pH + total.sulfur.dioxide + alcohol\n",
       "  best_k_mul accuracy_mul\n",
       "1 17         0.5808889   "
      ]
     },
     "metadata": {},
     "output_type": "display_data"
    }
   ],
   "source": [
    "results_mul <- results_mul %>%\n",
    "    arrange(desc(accuracy_mul))\n",
    "results_mul\n",
    "best_pred_mul <- results_mul %>%\n",
    "  slice(1)\n",
    "best_pred_mul"
   ]
  },
  {
   "cell_type": "markdown",
   "metadata": {},
   "source": [
    "#### Table of accuracies of combined predictors"
   ]
  },
  {
   "cell_type": "code",
   "execution_count": 15,
   "metadata": {},
   "outputs": [
    {
     "name": "stderr",
     "output_type": "stream",
     "text": [
      "\u001b[33m!\u001b[39m \u001b[33mFold2: internal: No observations were detected in `truth` for level(s): '3'\n",
      "Com...\u001b[39m\n",
      "\n",
      "\u001b[33m!\u001b[39m \u001b[33mFold4: internal: No observations were detected in `truth` for level(s): '3'\n",
      "Com...\u001b[39m\n",
      "\n",
      "\u001b[33m!\u001b[39m \u001b[33mFold5: internal: No observations were detected in `truth` for level(s): '8'\n",
      "Com...\u001b[39m\n",
      "\n"
     ]
    },
    {
     "data": {
      "text/html": [
       "<table>\n",
       "<caption>A tibble: 20 × 7</caption>\n",
       "<thead>\n",
       "\t<tr><th scope=col>neighbors</th><th scope=col>.metric</th><th scope=col>.estimator</th><th scope=col>mean</th><th scope=col>n</th><th scope=col>std_err</th><th scope=col>.config</th></tr>\n",
       "\t<tr><th scope=col>&lt;int&gt;</th><th scope=col>&lt;chr&gt;</th><th scope=col>&lt;chr&gt;</th><th scope=col>&lt;dbl&gt;</th><th scope=col>&lt;int&gt;</th><th scope=col>&lt;dbl&gt;</th><th scope=col>&lt;chr&gt;</th></tr>\n",
       "</thead>\n",
       "<tbody>\n",
       "\t<tr><td>20</td><td>accuracy</td><td>multiclass</td><td>0.4709234</td><td>5</td><td>0.015262195</td><td>Model20</td></tr>\n",
       "\t<tr><td> 7</td><td>accuracy</td><td>multiclass</td><td>0.4685843</td><td>5</td><td>0.018812781</td><td>Model07</td></tr>\n",
       "\t<tr><td> 6</td><td>accuracy</td><td>multiclass</td><td>0.4674487</td><td>5</td><td>0.021952842</td><td>Model06</td></tr>\n",
       "\t<tr><td>19</td><td>accuracy</td><td>multiclass</td><td>0.4650755</td><td>5</td><td>0.013294595</td><td>Model19</td></tr>\n",
       "\t<tr><td> 8</td><td>accuracy</td><td>multiclass</td><td>0.4650619</td><td>5</td><td>0.016598974</td><td>Model08</td></tr>\n",
       "\t<tr><td>14</td><td>accuracy</td><td>multiclass</td><td>0.4604379</td><td>5</td><td>0.023248010</td><td>Model14</td></tr>\n",
       "\t<tr><td> 5</td><td>accuracy</td><td>multiclass</td><td>0.4604311</td><td>5</td><td>0.019924706</td><td>Model05</td></tr>\n",
       "\t<tr><td>17</td><td>accuracy</td><td>multiclass</td><td>0.4592819</td><td>5</td><td>0.013715701</td><td>Model17</td></tr>\n",
       "\t<tr><td>15</td><td>accuracy</td><td>multiclass</td><td>0.4569155</td><td>5</td><td>0.009771024</td><td>Model15</td></tr>\n",
       "\t<tr><td>16</td><td>accuracy</td><td>multiclass</td><td>0.4557596</td><td>5</td><td>0.011286386</td><td>Model16</td></tr>\n",
       "\t<tr><td> 4</td><td>accuracy</td><td>multiclass</td><td>0.4534000</td><td>5</td><td>0.017627892</td><td>Model04</td></tr>\n",
       "\t<tr><td>18</td><td>accuracy</td><td>multiclass</td><td>0.4522576</td><td>5</td><td>0.007683731</td><td>Model18</td></tr>\n",
       "\t<tr><td>10</td><td>accuracy</td><td>multiclass</td><td>0.4511220</td><td>5</td><td>0.014672270</td><td>Model10</td></tr>\n",
       "\t<tr><td>11</td><td>accuracy</td><td>multiclass</td><td>0.4511016</td><td>5</td><td>0.013903991</td><td>Model11</td></tr>\n",
       "\t<tr><td> 9</td><td>accuracy</td><td>multiclass</td><td>0.4510812</td><td>5</td><td>0.017571431</td><td>Model09</td></tr>\n",
       "\t<tr><td>12</td><td>accuracy</td><td>multiclass</td><td>0.4487624</td><td>5</td><td>0.017542723</td><td>Model12</td></tr>\n",
       "\t<tr><td>13</td><td>accuracy</td><td>multiclass</td><td>0.4487488</td><td>5</td><td>0.013268250</td><td>Model13</td></tr>\n",
       "\t<tr><td> 3</td><td>accuracy</td><td>multiclass</td><td>0.4475996</td><td>5</td><td>0.016207604</td><td>Model03</td></tr>\n",
       "\t<tr><td> 1</td><td>accuracy</td><td>multiclass</td><td>0.4393853</td><td>5</td><td>0.008614872</td><td>Model01</td></tr>\n",
       "\t<tr><td> 2</td><td>accuracy</td><td>multiclass</td><td>0.4184415</td><td>5</td><td>0.017996957</td><td>Model02</td></tr>\n",
       "</tbody>\n",
       "</table>\n"
      ],
      "text/latex": [
       "A tibble: 20 × 7\n",
       "\\begin{tabular}{lllllll}\n",
       " neighbors & .metric & .estimator & mean & n & std\\_err & .config\\\\\n",
       " <int> & <chr> & <chr> & <dbl> & <int> & <dbl> & <chr>\\\\\n",
       "\\hline\n",
       "\t 20 & accuracy & multiclass & 0.4709234 & 5 & 0.015262195 & Model20\\\\\n",
       "\t  7 & accuracy & multiclass & 0.4685843 & 5 & 0.018812781 & Model07\\\\\n",
       "\t  6 & accuracy & multiclass & 0.4674487 & 5 & 0.021952842 & Model06\\\\\n",
       "\t 19 & accuracy & multiclass & 0.4650755 & 5 & 0.013294595 & Model19\\\\\n",
       "\t  8 & accuracy & multiclass & 0.4650619 & 5 & 0.016598974 & Model08\\\\\n",
       "\t 14 & accuracy & multiclass & 0.4604379 & 5 & 0.023248010 & Model14\\\\\n",
       "\t  5 & accuracy & multiclass & 0.4604311 & 5 & 0.019924706 & Model05\\\\\n",
       "\t 17 & accuracy & multiclass & 0.4592819 & 5 & 0.013715701 & Model17\\\\\n",
       "\t 15 & accuracy & multiclass & 0.4569155 & 5 & 0.009771024 & Model15\\\\\n",
       "\t 16 & accuracy & multiclass & 0.4557596 & 5 & 0.011286386 & Model16\\\\\n",
       "\t  4 & accuracy & multiclass & 0.4534000 & 5 & 0.017627892 & Model04\\\\\n",
       "\t 18 & accuracy & multiclass & 0.4522576 & 5 & 0.007683731 & Model18\\\\\n",
       "\t 10 & accuracy & multiclass & 0.4511220 & 5 & 0.014672270 & Model10\\\\\n",
       "\t 11 & accuracy & multiclass & 0.4511016 & 5 & 0.013903991 & Model11\\\\\n",
       "\t  9 & accuracy & multiclass & 0.4510812 & 5 & 0.017571431 & Model09\\\\\n",
       "\t 12 & accuracy & multiclass & 0.4487624 & 5 & 0.017542723 & Model12\\\\\n",
       "\t 13 & accuracy & multiclass & 0.4487488 & 5 & 0.013268250 & Model13\\\\\n",
       "\t  3 & accuracy & multiclass & 0.4475996 & 5 & 0.016207604 & Model03\\\\\n",
       "\t  1 & accuracy & multiclass & 0.4393853 & 5 & 0.008614872 & Model01\\\\\n",
       "\t  2 & accuracy & multiclass & 0.4184415 & 5 & 0.017996957 & Model02\\\\\n",
       "\\end{tabular}\n"
      ],
      "text/markdown": [
       "\n",
       "A tibble: 20 × 7\n",
       "\n",
       "| neighbors &lt;int&gt; | .metric &lt;chr&gt; | .estimator &lt;chr&gt; | mean &lt;dbl&gt; | n &lt;int&gt; | std_err &lt;dbl&gt; | .config &lt;chr&gt; |\n",
       "|---|---|---|---|---|---|---|\n",
       "| 20 | accuracy | multiclass | 0.4709234 | 5 | 0.015262195 | Model20 |\n",
       "|  7 | accuracy | multiclass | 0.4685843 | 5 | 0.018812781 | Model07 |\n",
       "|  6 | accuracy | multiclass | 0.4674487 | 5 | 0.021952842 | Model06 |\n",
       "| 19 | accuracy | multiclass | 0.4650755 | 5 | 0.013294595 | Model19 |\n",
       "|  8 | accuracy | multiclass | 0.4650619 | 5 | 0.016598974 | Model08 |\n",
       "| 14 | accuracy | multiclass | 0.4604379 | 5 | 0.023248010 | Model14 |\n",
       "|  5 | accuracy | multiclass | 0.4604311 | 5 | 0.019924706 | Model05 |\n",
       "| 17 | accuracy | multiclass | 0.4592819 | 5 | 0.013715701 | Model17 |\n",
       "| 15 | accuracy | multiclass | 0.4569155 | 5 | 0.009771024 | Model15 |\n",
       "| 16 | accuracy | multiclass | 0.4557596 | 5 | 0.011286386 | Model16 |\n",
       "|  4 | accuracy | multiclass | 0.4534000 | 5 | 0.017627892 | Model04 |\n",
       "| 18 | accuracy | multiclass | 0.4522576 | 5 | 0.007683731 | Model18 |\n",
       "| 10 | accuracy | multiclass | 0.4511220 | 5 | 0.014672270 | Model10 |\n",
       "| 11 | accuracy | multiclass | 0.4511016 | 5 | 0.013903991 | Model11 |\n",
       "|  9 | accuracy | multiclass | 0.4510812 | 5 | 0.017571431 | Model09 |\n",
       "| 12 | accuracy | multiclass | 0.4487624 | 5 | 0.017542723 | Model12 |\n",
       "| 13 | accuracy | multiclass | 0.4487488 | 5 | 0.013268250 | Model13 |\n",
       "|  3 | accuracy | multiclass | 0.4475996 | 5 | 0.016207604 | Model03 |\n",
       "|  1 | accuracy | multiclass | 0.4393853 | 5 | 0.008614872 | Model01 |\n",
       "|  2 | accuracy | multiclass | 0.4184415 | 5 | 0.017996957 | Model02 |\n",
       "\n"
      ],
      "text/plain": [
       "   neighbors .metric  .estimator mean      n std_err     .config\n",
       "1  20        accuracy multiclass 0.4709234 5 0.015262195 Model20\n",
       "2   7        accuracy multiclass 0.4685843 5 0.018812781 Model07\n",
       "3   6        accuracy multiclass 0.4674487 5 0.021952842 Model06\n",
       "4  19        accuracy multiclass 0.4650755 5 0.013294595 Model19\n",
       "5   8        accuracy multiclass 0.4650619 5 0.016598974 Model08\n",
       "6  14        accuracy multiclass 0.4604379 5 0.023248010 Model14\n",
       "7   5        accuracy multiclass 0.4604311 5 0.019924706 Model05\n",
       "8  17        accuracy multiclass 0.4592819 5 0.013715701 Model17\n",
       "9  15        accuracy multiclass 0.4569155 5 0.009771024 Model15\n",
       "10 16        accuracy multiclass 0.4557596 5 0.011286386 Model16\n",
       "11  4        accuracy multiclass 0.4534000 5 0.017627892 Model04\n",
       "12 18        accuracy multiclass 0.4522576 5 0.007683731 Model18\n",
       "13 10        accuracy multiclass 0.4511220 5 0.014672270 Model10\n",
       "14 11        accuracy multiclass 0.4511016 5 0.013903991 Model11\n",
       "15  9        accuracy multiclass 0.4510812 5 0.017571431 Model09\n",
       "16 12        accuracy multiclass 0.4487624 5 0.017542723 Model12\n",
       "17 13        accuracy multiclass 0.4487488 5 0.013268250 Model13\n",
       "18  3        accuracy multiclass 0.4475996 5 0.016207604 Model03\n",
       "19  1        accuracy multiclass 0.4393853 5 0.008614872 Model01\n",
       "20  2        accuracy multiclass 0.4184415 5 0.017996957 Model02"
      ]
     },
     "metadata": {},
     "output_type": "display_data"
    }
   ],
   "source": [
    "set.seed(999)\n",
    "\n",
    "wine_recipe <- recipe(quality ~ density, data = wine_train) %>%\n",
    "      step_scale(all_predictors()) %>%\n",
    "      step_center(all_predictors())\n",
    "\n",
    "knn_tune <- nearest_neighbor(weight_func = \"rectangular\", neighbors = tune()) %>%\n",
    "       set_engine(\"kknn\") %>%\n",
    "       set_mode(\"classification\")\n",
    "\n",
    "wine_vfold <- vfold_cv(wine_train, v = 5, strata = quality)\n",
    "\n",
    "gridvals = tibble(neighbors = seq(1, 20))\n",
    "    \n",
    "knn_results <- workflow() %>%\n",
    "       add_recipe(wine_recipe) %>%\n",
    "       add_model(knn_tune) %>%\n",
    "       tune_grid(resamples = wine_vfold, grid = gridvals) %>%\n",
    "       collect_metrics()\n",
    "accuracy <- knn_results %>% \n",
    "        filter(.metric == \"accuracy\") %>%\n",
    "        arrange(desc(mean))\n",
    "accuracy\n"
   ]
  },
  {
   "cell_type": "code",
   "execution_count": 16,
   "metadata": {},
   "outputs": [
    {
     "data": {
      "image/png": "[encoded data removed]",
      "text/plain": [
       "plot without title"
      ]
     },
     "metadata": {
      "image/png": {
       "height": 420,
       "width": 420
      }
     },
     "output_type": "display_data"
    }
   ],
   "source": [
    "accuracy_vs_k <- ggplot(accuracy, aes(x = neighbors, y = mean))+\n",
    "       geom_point() +\n",
    "       geom_line() +\n",
    "       labs(x = \"Neighbors\", y = \"Accuracy Estimate\") +\n",
    "    scale_x_continuous(breaks = seq(0, 20, by = 1))\n",
    "accuracy_vs_k"
   ]
  },
  {
   "cell_type": "code",
   "execution_count": null,
   "metadata": {},
   "outputs": [],
   "source": []
  },
  {
   "cell_type": "code",
   "execution_count": 17,
   "metadata": {},
   "outputs": [
    {
     "name": "stderr",
     "output_type": "stream",
     "text": [
      "\u001b[33m!\u001b[39m \u001b[33mFold1: internal: No observations were detected in `truth` for level(s): '3'\n",
      "Com...\u001b[39m\n",
      "\n",
      "\u001b[33m!\u001b[39m \u001b[33mFold4: internal: No observations were detected in `truth` for level(s): '3'\n",
      "Com...\u001b[39m\n",
      "\n"
     ]
    }
   ],
   "source": [
    "wine_recipe_mul <- recipe(quality ~  citric.acid + chlorides + residual.sugar + density + pH + total.sulfur.dioxide + alcohol , data = wine_train) %>%\n",
    "      step_scale(all_predictors()) %>%\n",
    "      step_center(all_predictors())\n",
    "\n",
    "    knn_spec_mul <- nearest_neighbor(weight_func = \"rectangular\", neighbors = tune()) %>%\n",
    "       set_engine(\"kknn\") %>%\n",
    "       set_mode(\"classification\")\n",
    "\n",
    "    wine_vfold_mul <- vfold_cv(wine_train, v = 5, strata = quality)\n",
    "\n",
    "    gridvals_mul = tibble(neighbors = seq(1, 20))\n",
    "    \n",
    "    knn_results_mul <- workflow() %>%\n",
    "       add_recipe(wine_recipe_mul) %>%\n",
    "       add_model(knn_spec_mul) %>%\n",
    "       tune_grid(resamples = wine_vfold_mul, grid = gridvals_mul) %>%\n",
    "       collect_metrics() \n",
    "\n",
    " accuracy_mul <- knn_results_mul %>%\n",
    "    filter(.metric == \"accuracy\") %>%\n",
    "         arrange(desc(mean))\n",
    "        "
   ]
  },
  {
   "cell_type": "code",
   "execution_count": 18,
   "metadata": {},
   "outputs": [
    {
     "data": {
      "image/png": "[encoded data removed]",
      "text/plain": [
       "plot without title"
      ]
     },
     "metadata": {
      "image/png": {
       "height": 420,
       "width": 420
      }
     },
     "output_type": "display_data"
    }
   ],
   "source": [
    "accuracy_mul_vs_k <- ggplot(accuracy_mul, aes(x = neighbors, y = mean))+\n",
    "       geom_point() +\n",
    "       geom_line() +\n",
    "       labs(x = \"Neighbors\", y = \"Accuracy Estimate\") +\n",
    "    scale_x_continuous(breaks = seq(0, 20, by = 1))\n",
    "accuracy_mul_vs_k"
   ]
  },
  {
   "cell_type": "markdown",
   "metadata": {},
   "source": [
    "### Discussion\n",
    "\n"
   ]
  },
  {
   "cell_type": "markdown",
   "metadata": {},
   "source": [
    "### References\n",
    "\n",
    "- Cortez, P., Cerdeira, A., Almeida, F., Matos, T., & Reis, J. (2009). Modeling wine preferences by data mining from physicochemical properties. Decision Support Systems, 47(4), 547–553. https://doi.org/10.1016/j.dss.2009.05.016\n",
    "\n",
    "- Wine Quality Dataset. (2022, January 15). Kaggle. https://www.kaggle.com/datasets/yasserh/wine-quality-dataset"
   ]
  },
  {
   "cell_type": "code",
   "execution_count": null,
   "metadata": {},
   "outputs": [],
   "source": []
  }
 ],
 "metadata": {
  "kernelspec": {
   "display_name": "R",
   "language": "R",
   "name": "ir"
  },
  "language_info": {
   "codemirror_mode": "r",
   "file_extension": ".r",
   "mimetype": "text/x-r-source",
   "name": "R",
   "pygments_lexer": "r",
   "version": "4.0.0"
  }
 },
 "nbformat": 4,
 "nbformat_minor": 4
}
